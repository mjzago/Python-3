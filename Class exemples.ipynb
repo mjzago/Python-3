{
 "cells": [
  {
   "cell_type": "code",
   "execution_count": 1,
   "metadata": {},
   "outputs": [
    {
     "name": "stdout",
     "output_type": "stream",
     "text": [
      "15\n"
     ]
    }
   ],
   "source": [
    "def sum_recursive(n):\n",
    "    if n == 1:\n",
    "        return 1\n",
    "    else:\n",
    "        return n + sum_recursive(n - 1)\n",
    "\n",
    "result = sum_recursive(5)  # Calculating the sum of numbers from 1 to 5\n",
    "print(result)  # Output: 15 (1 + 2 + 3 + 4 + 5)\n"
   ]
  },
  {
   "cell_type": "code",
   "execution_count": 2,
   "metadata": {},
   "outputs": [
    {
     "name": "stdout",
     "output_type": "stream",
     "text": [
      "1\n",
      "2\n",
      "3\n",
      "4\n",
      "5\n"
     ]
    }
   ],
   "source": [
    "def count_recursive(n):\n",
    "    if n <= 0:\n",
    "        return\n",
    "    else:\n",
    "        count_recursive(n - 1)\n",
    "        print(n)\n",
    "\n",
    "count_recursive(5)\n"
   ]
  },
  {
   "cell_type": "code",
   "execution_count": null,
   "metadata": {},
   "outputs": [],
   "source": [
    "def factorial(n):\n",
    "    if n == 1:\n",
    "        return 1\n",
    "    else:\n",
    "        return n * factorial(n - 1)\n",
    "\n",
    "print(factorial(4))\n"
   ]
  },
  {
   "cell_type": "code",
   "execution_count": 5,
   "metadata": {},
   "outputs": [
    {
     "name": "stdout",
     "output_type": "stream",
     "text": [
      "nohtyP\n"
     ]
    }
   ],
   "source": [
    "def reverseString(string):\n",
    "    if len(string) <= 1:\n",
    "        return string\n",
    "    else:\n",
    "        return reverseString(string[1:]) + string[0]\n",
    "\n",
    "input_string = \"Python\"\n",
    "reversed_string = reverseString(input_string)\n",
    "print(reversed_string)  # Ausgabe: \"nohtyP\"\n"
   ]
  },
  {
   "cell_type": "code",
   "execution_count": 4,
   "metadata": {},
   "outputs": [
    {
     "name": "stdout",
     "output_type": "stream",
     "text": [
      "nohtyP\n"
     ]
    }
   ],
   "source": [
    "def reverseString(string):\n",
    "    if len(string) <= 1:\n",
    "        return string\n",
    "    else:\n",
    "        return string[-1] + reverseString(string[:-1])\n",
    "\n",
    "input_string = \"Python\"\n",
    "reversed_string = reverseString(input_string)\n",
    "print(reversed_string)  # Output: \"nohtyP\"\n"
   ]
  },
  {
   "cell_type": "code",
   "execution_count": 3,
   "metadata": {},
   "outputs": [
    {
     "name": "stdout",
     "output_type": "stream",
     "text": [
      "n\n",
      "o\n",
      "h\n",
      "t\n",
      "y\n",
      "P\n"
     ]
    }
   ],
   "source": [
    "def reverse(string):\n",
    "    x = [i for i in string]  # Converting the string to a list of characters\n",
    "    x = x[::-1]  # Reversing the list using slicing\n",
    "    for i in x:  # Iterating through the reversed list\n",
    "        print(i)\n",
    "\n",
    "reverse(\"Python\")\n"
   ]
  },
  {
   "cell_type": "code",
   "execution_count": 6,
   "metadata": {},
   "outputs": [
    {
     "name": "stdout",
     "output_type": "stream",
     "text": [
      "nohtyP\n"
     ]
    }
   ],
   "source": [
    "def reverse(string):\n",
    "    x = [i for i in string]  # Converting the string to a list of characters\n",
    "    x = x[::-1]  # Reversing the list using slicing\n",
    "    reversed_string = \"\".join(x)  # Joining the characters back into a string\n",
    "    print(reversed_string)\n",
    "\n",
    "reverse(\"Python\")"
   ]
  },
  {
   "cell_type": "code",
   "execution_count": 15,
   "metadata": {},
   "outputs": [
    {
     "name": "stdout",
     "output_type": "stream",
     "text": [
      "ogaZ senoJ suehtaM\n"
     ]
    }
   ],
   "source": [
    "def reverse(string):\n",
    "    if len(string) == 0:\n",
    "        return \"\"\n",
    "    else:\n",
    "        return string[-1] + reverse(string[:-1])\n",
    "\n",
    "input_string = \"Matheus Jones Zago\"\n",
    "reversed_string = reverse(input_string)\n",
    "print(reversed_string)\n"
   ]
  },
  {
   "cell_type": "code",
   "execution_count": 16,
   "metadata": {},
   "outputs": [
    {
     "name": "stdout",
     "output_type": "stream",
     "text": [
      "15\n"
     ]
    }
   ],
   "source": [
    "numbers = [1, 2, 3, 4, 5]\n",
    "total = 0\n",
    "\n",
    "for num in numbers:\n",
    "    total += num  # total = num + total\n",
    "print(total)  # Output: 15\n"
   ]
  },
  {
   "cell_type": "code",
   "execution_count": null,
   "metadata": {},
   "outputs": [],
   "source": [
    "def recursive_sum(numbers):\n",
    "    if not numbers:\n",
    "        return 0\n",
    "    else:\n",
    "        return numbers[0] + recursive_sum(numbers[1:])\n",
    "\n",
    "numbers = [1, 2, 3, 4, 5]\n",
    "total = recursive_sum(numbers)\n",
    "print(total)  # Output: 15\n"
   ]
  },
  {
   "cell_type": "code",
   "execution_count": 17,
   "metadata": {},
   "outputs": [
    {
     "name": "stdout",
     "output_type": "stream",
     "text": [
      "Hello from class D\n"
     ]
    }
   ],
   "source": [
    "class A:\n",
    "    def hello(self):\n",
    "        print(\"Hello from class A\")\n",
    "\n",
    "class B(A):\n",
    "    def hello(self):\n",
    "        print(\"Hello from class B\")\n",
    "\n",
    "class C(A):\n",
    "    def hello(self):\n",
    "        print(\"Hello from class C\")\n",
    "\n",
    "class D(B, C):\n",
    "    def hello(self):\n",
    "        print(\"Hello from class D\")\n",
    "\n",
    "d_instance = D()\n",
    "d_instance.hello()\n"
   ]
  },
  {
   "cell_type": "code",
   "execution_count": 39,
   "metadata": {},
   "outputs": [
    {
     "name": "stdout",
     "output_type": "stream",
     "text": [
      "Dimensions: 5\n"
     ]
    }
   ],
   "source": [
    "class Shape(ABC):\n",
    "    def __init__(self, dimensions):\n",
    "        self.dimensions = dimensions\n",
    "\n",
    "    def area(self):\n",
    "        pass\n",
    "\n",
    "    def perimeter(self):\n",
    "        pass\n",
    "\n",
    "    def print_shape(self):\n",
    "        print(f\"Dimensions: {self.dimensions}\")\n",
    " \n",
    "\n",
    "circle = Shape (5)\n",
    "circle.print_shape()\n"
   ]
  },
  {
   "cell_type": "code",
   "execution_count": 40,
   "metadata": {},
   "outputs": [
    {
     "name": "stdout",
     "output_type": "stream",
     "text": [
      "Dimensions: 16\n"
     ]
    }
   ],
   "source": [
    "\n",
    "\n",
    "class Shape(ABC):\n",
    "    dimensions = 16\n",
    "    def __init__(self, dimensions):\n",
    "        self.dimensions = dimensions\n",
    "\n",
    "    def area(self):\n",
    "        pass\n",
    "\n",
    "    def perimeter(self):\n",
    "        pass\n",
    "    @classmethod\n",
    "    def print_shape(self):\n",
    "        print(f\"Dimensions: {self.dimensions}\")\n",
    " \n",
    "\n",
    "circle = Shape (5)\n",
    "circle.print_shape()\n",
    "\n",
    "\n"
   ]
  },
  {
   "cell_type": "code",
   "execution_count": 25,
   "metadata": {},
   "outputs": [
    {
     "name": "stdout",
     "output_type": "stream",
     "text": [
      "An error occurred: unsupported operand type(s) for /: 'int' and 'str'\n"
     ]
    }
   ],
   "source": [
    "try: \n",
    "    x = \"0.0\"\n",
    "    result = 10/x\n",
    "    print (\"Result:\", result)\n",
    "except (ValueError, ZeroDivisionError, TypeError) as e:\n",
    "    print(\"An error occurred:\", e)"
   ]
  },
  {
   "cell_type": "code",
   "execution_count": 29,
   "metadata": {},
   "outputs": [
    {
     "name": "stdout",
     "output_type": "stream",
     "text": [
      "Tom\n"
     ]
    }
   ],
   "source": [
    "class Mother: \n",
    "    def __init__(self, name):  \n",
    "        self.name = name\n",
    "\n",
    "    def print_name(self):  \n",
    "        print(self.name)\n",
    "\n",
    "class Child(Mother):  \n",
    "    def print_name(self):  \n",
    "        print(\"Little\", self.name)\n",
    "\n",
    "mama = Mother(\"Frau Sambiki\")\n",
    "tom = Child(\"Tom\")\n",
    "Mother.print_name(tom)  \n"
   ]
  },
  {
   "cell_type": "code",
   "execution_count": 42,
   "metadata": {},
   "outputs": [
    {
     "ename": "ModuleNotFoundError",
     "evalue": "No module named 'nltk'",
     "output_type": "error",
     "traceback": [
      "\u001b[1;31m---------------------------------------------------------------------------\u001b[0m",
      "\u001b[1;31mModuleNotFoundError\u001b[0m                       Traceback (most recent call last)",
      "Cell \u001b[1;32mIn[42], line 1\u001b[0m\n\u001b[1;32m----> 1\u001b[0m \u001b[39mimport\u001b[39;00m \u001b[39mnltk\u001b[39;00m\n\u001b[0;32m      2\u001b[0m \u001b[39mimport\u001b[39;00m \u001b[39mstring\u001b[39;00m\n\u001b[0;32m      3\u001b[0m \u001b[39mfrom\u001b[39;00m \u001b[39mheapq\u001b[39;00m \u001b[39mimport\u001b[39;00m nlargest\n",
      "\u001b[1;31mModuleNotFoundError\u001b[0m: No module named 'nltk'"
     ]
    }
   ],
   "source": []
  },
  {
   "cell_type": "code",
   "execution_count": 52,
   "metadata": {},
   "outputs": [
    {
     "name": "stdout",
     "output_type": "stream",
     "text": [
      "[[1, 2, 3], [4, 5, 6], ['A', 'B', 'C']]\n",
      "[]\n",
      "[4, 5, 6]\n",
      "['A', 'B', 'C']\n"
     ]
    }
   ],
   "source": [
    "x = [[1,2,3], [4,5,6], [\"A\",\"B\",\"C\"]]\n",
    "y = list()\n",
    "\n",
    "print(x)\n",
    "print (y)\n",
    "print(x[1])\n",
    "len(x)\n",
    "print(x[-1])"
   ]
  },
  {
   "cell_type": "code",
   "execution_count": 62,
   "metadata": {},
   "outputs": [
    {
     "name": "stdout",
     "output_type": "stream",
     "text": [
      "[2, 3, 4]\n",
      "range(2, 5)\n"
     ]
    }
   ],
   "source": [
    "print(list(range(2,5)))\n",
    "print(range(2,5))"
   ]
  },
  {
   "cell_type": "code",
   "execution_count": 2,
   "metadata": {},
   "outputs": [
    {
     "name": "stdout",
     "output_type": "stream",
     "text": [
      "Target 5 found at index 4.\n"
     ]
    }
   ],
   "source": [
    "def binary_search(arr, target):\n",
    "    left = 0\n",
    "    right = len(arr) - 1\n",
    "    \n",
    "    while left <= right:\n",
    "        mid = (left + right) // 2\n",
    "        mid_value = arr[mid]\n",
    "        \n",
    "        if mid_value == target:\n",
    "            return mid\n",
    "        elif mid_value < target:\n",
    "            left = mid + 1\n",
    "        else:\n",
    "            right = mid - 1\n",
    "            \n",
    "    return -1  # Target not found\n",
    "\n",
    "# Test the binary search algorithm\n",
    "my_list = [1, 2, 3, 4, 5, 6, 7, 8, 9, 10]\n",
    "target_value = 5\n",
    "\n",
    "result = binary_search(my_list, target_value)\n",
    "\n",
    "if result != -1:\n",
    "    print(f\"Target {target_value} found at index {result}.\")\n",
    "else:\n",
    "    print(f\"Target {target_value} not found in the list.\")\n"
   ]
  },
  {
   "cell_type": "code",
   "execution_count": 28,
   "metadata": {},
   "outputs": [
    {
     "ename": "IndentationError",
     "evalue": "unexpected indent (707324118.py, line 5)",
     "output_type": "error",
     "traceback": [
      "\u001b[1;36m  Cell \u001b[1;32mIn[28], line 5\u001b[1;36m\u001b[0m\n\u001b[1;33m    for x, y in students:\u001b[0m\n\u001b[1;37m    ^\u001b[0m\n\u001b[1;31mIndentationError\u001b[0m\u001b[1;31m:\u001b[0m unexpected indent\n"
     ]
    }
   ],
   "source": [
    "names = [\"Alice\", \"Bob\", \"Charlie\"]\n",
    "scores = [85, 92, 78]\n",
    "students = zip(names, scores)\n",
    "\n",
    "\n",
    " for x, y in students:  \n",
    "     print(x, y)\n",
    "\n",
    "#print(list(students))"
   ]
  },
  {
   "cell_type": "code",
   "execution_count": 32,
   "metadata": {},
   "outputs": [
    {
     "name": "stdout",
     "output_type": "stream",
     "text": [
      "[5, 6, 3, 1, 8, 7, 2, 4]\n",
      "[5, 3, 6, 1, 8, 7, 2, 4]\n",
      "[5, 3, 1, 6, 8, 7, 2, 4]\n",
      "[5, 3, 1, 6, 7, 8, 2, 4]\n",
      "[5, 3, 1, 6, 7, 2, 8, 4]\n",
      "[5, 3, 1, 6, 7, 2, 4, 8]\n",
      "[3, 5, 1, 6, 7, 2, 4, 8]\n",
      "[3, 1, 5, 6, 7, 2, 4, 8]\n",
      "[3, 1, 5, 6, 2, 7, 4, 8]\n",
      "[3, 1, 5, 6, 2, 4, 7, 8]\n",
      "[1, 3, 5, 6, 2, 4, 7, 8]\n",
      "[1, 3, 5, 2, 6, 4, 7, 8]\n",
      "[1, 3, 5, 2, 4, 6, 7, 8]\n",
      "[1, 3, 2, 5, 4, 6, 7, 8]\n",
      "[1, 3, 2, 4, 5, 6, 7, 8]\n",
      "[1, 2, 3, 4, 5, 6, 7, 8]\n",
      "None\n"
     ]
    }
   ],
   "source": [
    "#sort a bobble-sort 6, 5, 3, 1, 8, 7, 2, 4\n",
    "\n",
    "\n",
    "arr = [6, 5, 3, 1, 8, 7, 2, 4]\n",
    "\n",
    "\n",
    "def bubble_sort(arr):\n",
    "    n = len(arr)\n",
    "    for i in range(n):\n",
    "        for j in range(n-i-1):\n",
    "            if arr[j] > arr[j+1]:\n",
    "                arr[j], arr[j+1] = arr[j+1], arr[j]\n",
    "                print(arr)\n",
    "\n",
    "print(bubble_sort(arr))"
   ]
  },
  {
   "cell_type": "code",
   "execution_count": 1,
   "metadata": {},
   "outputs": [
    {
     "name": "stdout",
     "output_type": "stream",
     "text": [
      "[5, 9, 10, 12, 16]\n"
     ]
    }
   ],
   "source": [
    "def merge_sort(arr):\n",
    "    if len(arr) <= 1:\n",
    "        return arr\n",
    "    \n",
    "    mid = len(arr) // 2\n",
    "    left_half = arr[:mid]\n",
    "    right_half = arr[mid:]\n",
    "    \n",
    "    left_half = merge_sort(left_half)\n",
    "    right_half = merge_sort(right_half)\n",
    "    \n",
    "    return merge(left_half, right_half)\n",
    "\n",
    "def merge(left, right):\n",
    "    result = []\n",
    "    left_index, right_index = 0, 0\n",
    "    \n",
    "    while left_index < len(left) and right_index < len(right):\n",
    "        if left[left_index] < right[right_index]:\n",
    "            result.append(left[left_index])\n",
    "            left_index += 1\n",
    "        else:\n",
    "            result.append(right[right_index])\n",
    "            right_index += 1\n",
    "    \n",
    "    result.extend(left[left_index:])\n",
    "    result.extend(right[right_index:])\n",
    "    return result\n",
    "\n",
    "# Example usage\n",
    "input_list = [5, 12, 10, 9, 16]\n",
    "sorted_list = merge_sort(input_list)\n",
    "print(sorted_list)\n"
   ]
  },
  {
   "cell_type": "code",
   "execution_count": 8,
   "metadata": {},
   "outputs": [
    {
     "name": "stdout",
     "output_type": "stream",
     "text": [
      "N = 10: Bubble Sort Time = 0.000000s, Merge Sort Time = 0.000000s\n",
      "N = 100: Bubble Sort Time = 0.002001s, Merge Sort Time = 0.001000s\n",
      "N = 1000: Bubble Sort Time = 0.088829s, Merge Sort Time = 0.003999s\n",
      "N = 10000: Bubble Sort Time = 12.052948s, Merge Sort Time = 0.043040s\n",
      "N = 100000: Bubble Sort Time = 1039.947386s, Merge Sort Time = 0.536472s\n"
     ]
    }
   ],
   "source": [
    "import random\n",
    "import time\n",
    "\n",
    "# Set the seed for reproducibility\n",
    "random.seed(42)\n",
    "\n",
    "# List of N values\n",
    "N_values = [10, 100, 1000, 10000, 100000]\n",
    "\n",
    "# Function to perform bubble sort\n",
    "def bubble_sort(arr):\n",
    "    n = len(arr)\n",
    "    for i in range(n):\n",
    "        for j in range(0, n-i-1):\n",
    "            if arr[j] > arr[j+1]:\n",
    "                arr[j], arr[j+1] = arr[j+1], arr[j]\n",
    "\n",
    "# Function to perform merge sort\n",
    "def merge_sort(arr):\n",
    "    if len(arr) > 1:\n",
    "        mid = len(arr) // 2\n",
    "        left_half = arr[:mid]\n",
    "        right_half = arr[mid:]\n",
    "\n",
    "        merge_sort(left_half)\n",
    "        merge_sort(right_half)\n",
    "\n",
    "        i = j = k = 0\n",
    "\n",
    "        while i < len(left_half) and j < len(right_half):\n",
    "            if left_half[i] < right_half[j]:\n",
    "                arr[k] = left_half[i]\n",
    "                i += 1\n",
    "            else:\n",
    "                arr[k] = right_half[j]\n",
    "                j += 1\n",
    "            k += 1\n",
    "\n",
    "        while i < len(left_half):\n",
    "            arr[k] = left_half[i]\n",
    "            i += 1\n",
    "            k += 1\n",
    "\n",
    "        while j < len(right_half):\n",
    "            arr[k] = right_half[j]\n",
    "            j += 1\n",
    "            k += 1\n",
    "\n",
    "# Generate and sort the numbers\n",
    "for N in N_values:\n",
    "    random_numbers = random.sample(range(1, N+1), N)  # Generate N unique random numbers\n",
    "\n",
    "    # Bubble Sort\n",
    "    bubble_start_time = time.time()\n",
    "    bubble_sort(random_numbers.copy())\n",
    "    bubble_end_time = time.time()\n",
    "    bubble_time = bubble_end_time - bubble_start_time\n",
    "\n",
    "    # Merge Sort\n",
    "    merge_start_time = time.time()\n",
    "    merge_sort(random_numbers.copy())\n",
    "    merge_end_time = time.time()\n",
    "    merge_time = merge_end_time - merge_start_time\n",
    "\n",
    "    print(f\"N = {N}: Bubble Sort Time = {bubble_time:.25f}s, Merge Sort Time = {merge_time:.6f}s\")\n",
    "\n"
   ]
  },
  {
   "cell_type": "code",
   "execution_count": null,
   "metadata": {},
   "outputs": [],
   "source": [
    "def quick_sort(start, end, array):\n",
    "    if (start < end):\n",
    "        p = partition(start, end, array)\n",
    "        quick_sort(start, p - 1, array)\n",
    "        quick_sort(p + 1, end, array)\n"
   ]
  }
 ],
 "metadata": {
  "kernelspec": {
   "display_name": "Python 3",
   "language": "python",
   "name": "python3"
  },
  "language_info": {
   "codemirror_mode": {
    "name": "ipython",
    "version": 3
   },
   "file_extension": ".py",
   "mimetype": "text/x-python",
   "name": "python",
   "nbconvert_exporter": "python",
   "pygments_lexer": "ipython3",
   "version": "3.11.3"
  },
  "orig_nbformat": 4
 },
 "nbformat": 4,
 "nbformat_minor": 2
}
