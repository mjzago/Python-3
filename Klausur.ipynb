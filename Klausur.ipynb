{
 "cells": [
  {
   "cell_type": "code",
   "execution_count": 8,
   "metadata": {},
   "outputs": [
    {
     "name": "stdout",
     "output_type": "stream",
     "text": [
      "[4, 5, 6] [1, 2, 3] False\n"
     ]
    }
   ],
   "source": [
    "def f(x):\n",
    "    x[2][0] = 15\n",
    "    x[2] = x[0]\n",
    "    return x\n",
    "\n",
    "c = [[1, 2, 3], [4, 5, 6], [7, 8, 9]]\n",
    "d = f(c)\n",
    "\n",
    "print(f\"{d[1]} {d[2]} {d[0] is d[1]}\")\n",
    "\n",
    "\n",
    "# A função f é definida com um argumento x.\n",
    "# Dentro da função, a linha x[2][0] = 15 modifica o valor do primeiro elemento da terceira sublista de x para 15. Isso resulta em uma modificação na lista x, que agora se torna:\n",
    "\n",
    "# [[1, 2, 3], [4, 5, 6], [15, 8, 9]]\n",
    "# Em seguida, a linha x[2] = x[0] atribui à terceira sublista o valor da primeira sublista. Isso faz com que a terceira sublista tenha os mesmos valores que a primeira sublista. Agora a lista x fica assim:\n",
    "\n",
    "# [[1, 2, 3], [4, 5, 6], [1, 2, 3]]\n",
    "# A função retorna a lista x modificada.\n",
    "\n",
    "# No bloco principal do código, a lista c é definida:\n",
    "# [[1, 2, 3], [4, 5, 6], [7, 8, 9]]\n",
    "# A função f é chamada com c como argumento, e o resultado é atribuído a d.\n",
    "\n",
    "# A linha print gera uma saída formatada contendo os seguintes elementos:\n",
    "# d[1]: Isso é igual à segunda sublista de d, que é [4, 5, 6].\n",
    "# d[2]: Isso é igual à terceira sublista de d, que foi modificada para [1, 2, 3].\n",
    "# d[0] is d[1]: Isso verifica se o primeiro elemento de d é o mesmo objeto que o segundo elemento. Como esses elementos são diferentes sublistas (uma é [1, 2, 3] e a outra é [4, 5, 6]), o resultado é False.\n",
    "# Portanto, o código produz a seguinte saída:\n",
    "\n",
    "# [4, 5, 6] [1, 2, 3] False\n",
    "# Basicamente, a função f modifica a terceira sublista da lista de entrada, fazendo com que ela tenha os mesmos valores que a primeira sublista. Isso é o que leva à saída observada."
   ]
  },
  {
   "cell_type": "code",
   "execution_count": 9,
   "metadata": {},
   "outputs": [
    {
     "name": "stdout",
     "output_type": "stream",
     "text": [
      "0\n"
     ]
    }
   ],
   "source": [
    "def f(x):\n",
    "    if x >= 1:\n",
    "        return x * f(x - 1)\n",
    "    else:\n",
    "        return x\n",
    "\n",
    "print(f(5 // 2))\n",
    "\n",
    "\n",
    "# A função f(x) é definida, que calcula o fatorial de um número x.\n",
    "# Dentro da função, há uma verificação if que verifica se x é maior ou igual a 1.\n",
    "# Se x for maior ou igual a 1, a função é chamada recursivamente com x multiplicado pelo resultado da chamada da função f(x - 1). Isso significa que a função irá calcular o fatorial \n",
    "# de x multiplicado pelo fatorial de x - 1, multiplicado pelo fatorial de x - 2, e assim por diante, até chegar ao fatorial de 1.\n",
    "# Se x for menor que 1 (ou seja, igual a 0), a função retorna simplesmente o valor de x. Isso é importante porque o fatorial de 0 é definido como 1.\n",
    "# No bloco principal do código, a função f é chamada com o valor 5 // 2, que é a divisão inteira de 5 por 2, resultando em 2.\n",
    "# A função f é chamada com o argumento 2. O cálculo do fatorial começa: f(2) é calculado como 2 * f(1).\n",
    "# Em seguida, f(1) é calculado como 1 * f(0).\n",
    "# Finalmente, f(0) é calculado como 0. Neste ponto, a recursão atinge o caso base (onde x é menor que 1), e as chamadas recursivas começam a retornar valores.\n",
    "# Substituindo os valores de volta nas chamadas anteriores, temos:\n",
    "# f(1) é 1 * 0, que é 0.\n",
    "# f(2) é 2 * f(1), que é 2 * 0, resultando em 0.\n",
    "# O valor final de f(5 // 2) é 0.\n",
    "# Portanto, o código imprimirá 0 como saída\n",
    "\n"
   ]
  },
  {
   "cell_type": "code",
   "execution_count": 10,
   "metadata": {},
   "outputs": [],
   "source": [
    "def f(x):\n",
    "    if x <= 1:\n",
    "        return x\n",
    "    else:\n",
    "        return f(x - 1) + f(x - 2)\n"
   ]
  },
  {
   "cell_type": "code",
   "execution_count": 11,
   "metadata": {},
   "outputs": [
    {
     "name": "stdout",
     "output_type": "stream",
     "text": [
      "21\n"
     ]
    }
   ],
   "source": [
    "def f(x):\n",
    "    if x <= 1:\n",
    "        return x\n",
    "    else:\n",
    "        return f(x - 1) + f(x - 2)\n",
    "\n",
    "print(f(8))\n"
   ]
  },
  {
   "cell_type": "code",
   "execution_count": 12,
   "metadata": {},
   "outputs": [
    {
     "ename": "KeyboardInterrupt",
     "evalue": "",
     "output_type": "error",
     "traceback": [
      "\u001b[1;31m---------------------------------------------------------------------------\u001b[0m",
      "\u001b[1;31mKeyboardInterrupt\u001b[0m                         Traceback (most recent call last)",
      "Cell \u001b[1;32mIn[12], line 1\u001b[0m\n\u001b[1;32m----> 1\u001b[0m \u001b[39mimport\u001b[39;00m \u001b[39mpandas\u001b[39;00m \u001b[39mas\u001b[39;00m \u001b[39mpd\u001b[39;00m\n\u001b[0;32m      3\u001b[0m data \u001b[39m=\u001b[39m [\u001b[39m10\u001b[39m, \u001b[39m20\u001b[39m, \u001b[39m30\u001b[39m, \u001b[39m40\u001b[39m, \u001b[39m50\u001b[39m]\n\u001b[0;32m      4\u001b[0m series \u001b[39m=\u001b[39m pd\u001b[39m.\u001b[39mSeries(data)\n",
      "File \u001b[1;32mc:\\Users\\mjzag\\AppData\\Local\\Programs\\Python\\Python311\\Lib\\site-packages\\pandas\\__init__.py:22\u001b[0m\n\u001b[0;32m     19\u001b[0m \u001b[39mdel\u001b[39;00m _hard_dependencies, _dependency, _missing_dependencies\n\u001b[0;32m     21\u001b[0m \u001b[39m# numpy compat\u001b[39;00m\n\u001b[1;32m---> 22\u001b[0m \u001b[39mfrom\u001b[39;00m \u001b[39mpandas\u001b[39;00m\u001b[39m.\u001b[39;00m\u001b[39mcompat\u001b[39;00m \u001b[39mimport\u001b[39;00m is_numpy_dev \u001b[39mas\u001b[39;00m _is_numpy_dev  \u001b[39m# pyright: ignore # noqa:F401\u001b[39;00m\n\u001b[0;32m     24\u001b[0m \u001b[39mtry\u001b[39;00m:\n\u001b[0;32m     25\u001b[0m     \u001b[39mfrom\u001b[39;00m \u001b[39mpandas\u001b[39;00m\u001b[39m.\u001b[39;00m\u001b[39m_libs\u001b[39;00m \u001b[39mimport\u001b[39;00m hashtable \u001b[39mas\u001b[39;00m _hashtable, lib \u001b[39mas\u001b[39;00m _lib, tslib \u001b[39mas\u001b[39;00m _tslib\n",
      "File \u001b[1;32mc:\\Users\\mjzag\\AppData\\Local\\Programs\\Python\\Python311\\Lib\\site-packages\\pandas\\compat\\__init__.py:25\u001b[0m\n\u001b[0;32m     17\u001b[0m \u001b[39mfrom\u001b[39;00m \u001b[39mpandas\u001b[39;00m\u001b[39m.\u001b[39;00m\u001b[39mcompat\u001b[39;00m\u001b[39m.\u001b[39;00m\u001b[39m_constants\u001b[39;00m \u001b[39mimport\u001b[39;00m (\n\u001b[0;32m     18\u001b[0m     IS64,\n\u001b[0;32m     19\u001b[0m     PY39,\n\u001b[1;32m   (...)\u001b[0m\n\u001b[0;32m     22\u001b[0m     PYPY,\n\u001b[0;32m     23\u001b[0m )\n\u001b[0;32m     24\u001b[0m \u001b[39mimport\u001b[39;00m \u001b[39mpandas\u001b[39;00m\u001b[39m.\u001b[39;00m\u001b[39mcompat\u001b[39;00m\u001b[39m.\u001b[39;00m\u001b[39mcompressors\u001b[39;00m\n\u001b[1;32m---> 25\u001b[0m \u001b[39mfrom\u001b[39;00m \u001b[39mpandas\u001b[39;00m\u001b[39m.\u001b[39;00m\u001b[39mcompat\u001b[39;00m\u001b[39m.\u001b[39;00m\u001b[39mnumpy\u001b[39;00m \u001b[39mimport\u001b[39;00m (\n\u001b[0;32m     26\u001b[0m     is_numpy_dev,\n\u001b[0;32m     27\u001b[0m     np_version_under1p21,\n\u001b[0;32m     28\u001b[0m )\n\u001b[0;32m     29\u001b[0m \u001b[39mfrom\u001b[39;00m \u001b[39mpandas\u001b[39;00m\u001b[39m.\u001b[39;00m\u001b[39mcompat\u001b[39;00m\u001b[39m.\u001b[39;00m\u001b[39mpyarrow\u001b[39;00m \u001b[39mimport\u001b[39;00m (\n\u001b[0;32m     30\u001b[0m     pa_version_under7p0,\n\u001b[0;32m     31\u001b[0m     pa_version_under8p0,\n\u001b[0;32m     32\u001b[0m     pa_version_under9p0,\n\u001b[0;32m     33\u001b[0m     pa_version_under11p0,\n\u001b[0;32m     34\u001b[0m )\n\u001b[0;32m     37\u001b[0m \u001b[39mdef\u001b[39;00m \u001b[39mset_function_name\u001b[39m(f: F, name: \u001b[39mstr\u001b[39m, \u001b[39mcls\u001b[39m) \u001b[39m-\u001b[39m\u001b[39m>\u001b[39m F:\n",
      "File \u001b[1;32mc:\\Users\\mjzag\\AppData\\Local\\Programs\\Python\\Python311\\Lib\\site-packages\\pandas\\compat\\numpy\\__init__.py:4\u001b[0m\n\u001b[0;32m      1\u001b[0m \u001b[39m\"\"\" support numpy compatibility across versions \"\"\"\u001b[39;00m\n\u001b[0;32m      2\u001b[0m \u001b[39mimport\u001b[39;00m \u001b[39mnumpy\u001b[39;00m \u001b[39mas\u001b[39;00m \u001b[39mnp\u001b[39;00m\n\u001b[1;32m----> 4\u001b[0m \u001b[39mfrom\u001b[39;00m \u001b[39mpandas\u001b[39;00m\u001b[39m.\u001b[39;00m\u001b[39mutil\u001b[39;00m\u001b[39m.\u001b[39;00m\u001b[39mversion\u001b[39;00m \u001b[39mimport\u001b[39;00m Version\n\u001b[0;32m      6\u001b[0m \u001b[39m# numpy versioning\u001b[39;00m\n\u001b[0;32m      7\u001b[0m _np_version \u001b[39m=\u001b[39m np\u001b[39m.\u001b[39m__version__\n",
      "File \u001b[1;32mc:\\Users\\mjzag\\AppData\\Local\\Programs\\Python\\Python311\\Lib\\site-packages\\pandas\\util\\__init__.py:2\u001b[0m\n\u001b[0;32m      1\u001b[0m \u001b[39m# pyright: reportUnusedImport = false\u001b[39;00m\n\u001b[1;32m----> 2\u001b[0m \u001b[39mfrom\u001b[39;00m \u001b[39mpandas\u001b[39;00m\u001b[39m.\u001b[39;00m\u001b[39mutil\u001b[39;00m\u001b[39m.\u001b[39;00m\u001b[39m_decorators\u001b[39;00m \u001b[39mimport\u001b[39;00m (  \u001b[39m# noqa:F401\u001b[39;00m\n\u001b[0;32m      3\u001b[0m     Appender,\n\u001b[0;32m      4\u001b[0m     Substitution,\n\u001b[0;32m      5\u001b[0m     cache_readonly,\n\u001b[0;32m      6\u001b[0m )\n\u001b[0;32m      8\u001b[0m \u001b[39mfrom\u001b[39;00m \u001b[39mpandas\u001b[39;00m\u001b[39m.\u001b[39;00m\u001b[39mcore\u001b[39;00m\u001b[39m.\u001b[39;00m\u001b[39mutil\u001b[39;00m\u001b[39m.\u001b[39;00m\u001b[39mhashing\u001b[39;00m \u001b[39mimport\u001b[39;00m (  \u001b[39m# noqa:F401\u001b[39;00m\n\u001b[0;32m      9\u001b[0m     hash_array,\n\u001b[0;32m     10\u001b[0m     hash_pandas_object,\n\u001b[0;32m     11\u001b[0m )\n",
      "File \u001b[1;32mc:\\Users\\mjzag\\AppData\\Local\\Programs\\Python\\Python311\\Lib\\site-packages\\pandas\\util\\_decorators.py:14\u001b[0m\n\u001b[0;32m      6\u001b[0m \u001b[39mfrom\u001b[39;00m \u001b[39mtyping\u001b[39;00m \u001b[39mimport\u001b[39;00m (\n\u001b[0;32m      7\u001b[0m     Any,\n\u001b[0;32m      8\u001b[0m     Callable,\n\u001b[0;32m      9\u001b[0m     Mapping,\n\u001b[0;32m     10\u001b[0m     cast,\n\u001b[0;32m     11\u001b[0m )\n\u001b[0;32m     12\u001b[0m \u001b[39mimport\u001b[39;00m \u001b[39mwarnings\u001b[39;00m\n\u001b[1;32m---> 14\u001b[0m \u001b[39mfrom\u001b[39;00m \u001b[39mpandas\u001b[39;00m\u001b[39m.\u001b[39;00m\u001b[39m_libs\u001b[39;00m\u001b[39m.\u001b[39;00m\u001b[39mproperties\u001b[39;00m \u001b[39mimport\u001b[39;00m cache_readonly\n\u001b[0;32m     15\u001b[0m \u001b[39mfrom\u001b[39;00m \u001b[39mpandas\u001b[39;00m\u001b[39m.\u001b[39;00m\u001b[39m_typing\u001b[39;00m \u001b[39mimport\u001b[39;00m (\n\u001b[0;32m     16\u001b[0m     F,\n\u001b[0;32m     17\u001b[0m     T,\n\u001b[0;32m     18\u001b[0m )\n\u001b[0;32m     19\u001b[0m \u001b[39mfrom\u001b[39;00m \u001b[39mpandas\u001b[39;00m\u001b[39m.\u001b[39;00m\u001b[39mutil\u001b[39;00m\u001b[39m.\u001b[39;00m\u001b[39m_exceptions\u001b[39;00m \u001b[39mimport\u001b[39;00m find_stack_level\n",
      "File \u001b[1;32mc:\\Users\\mjzag\\AppData\\Local\\Programs\\Python\\Python311\\Lib\\site-packages\\pandas\\_libs\\__init__.py:13\u001b[0m\n\u001b[0;32m      1\u001b[0m __all__ \u001b[39m=\u001b[39m [\n\u001b[0;32m      2\u001b[0m     \u001b[39m\"\u001b[39m\u001b[39mNaT\u001b[39m\u001b[39m\"\u001b[39m,\n\u001b[0;32m      3\u001b[0m     \u001b[39m\"\u001b[39m\u001b[39mNaTType\u001b[39m\u001b[39m\"\u001b[39m,\n\u001b[1;32m   (...)\u001b[0m\n\u001b[0;32m      9\u001b[0m     \u001b[39m\"\u001b[39m\u001b[39mInterval\u001b[39m\u001b[39m\"\u001b[39m,\n\u001b[0;32m     10\u001b[0m ]\n\u001b[1;32m---> 13\u001b[0m \u001b[39mfrom\u001b[39;00m \u001b[39mpandas\u001b[39;00m\u001b[39m.\u001b[39;00m\u001b[39m_libs\u001b[39;00m\u001b[39m.\u001b[39;00m\u001b[39minterval\u001b[39;00m \u001b[39mimport\u001b[39;00m Interval\n\u001b[0;32m     14\u001b[0m \u001b[39mfrom\u001b[39;00m \u001b[39mpandas\u001b[39;00m\u001b[39m.\u001b[39;00m\u001b[39m_libs\u001b[39;00m\u001b[39m.\u001b[39;00m\u001b[39mtslibs\u001b[39;00m \u001b[39mimport\u001b[39;00m (\n\u001b[0;32m     15\u001b[0m     NaT,\n\u001b[0;32m     16\u001b[0m     NaTType,\n\u001b[1;32m   (...)\u001b[0m\n\u001b[0;32m     21\u001b[0m     iNaT,\n\u001b[0;32m     22\u001b[0m )\n",
      "File \u001b[1;32mc:\\Users\\mjzag\\AppData\\Local\\Programs\\Python\\Python311\\Lib\\site-packages\\pandas\\_libs\\interval.pyx:1\u001b[0m, in \u001b[0;36minit pandas._libs.interval\u001b[1;34m()\u001b[0m\n",
      "File \u001b[1;32mc:\\Users\\mjzag\\AppData\\Local\\Programs\\Python\\Python311\\Lib\\site-packages\\pandas\\_libs\\hashtable.pyx:1\u001b[0m, in \u001b[0;36minit pandas._libs.hashtable\u001b[1;34m()\u001b[0m\n",
      "File \u001b[1;32mc:\\Users\\mjzag\\AppData\\Local\\Programs\\Python\\Python311\\Lib\\site-packages\\pandas\\_libs\\missing.pyx:1\u001b[0m, in \u001b[0;36minit pandas._libs.missing\u001b[1;34m()\u001b[0m\n",
      "File \u001b[1;32mc:\\Users\\mjzag\\AppData\\Local\\Programs\\Python\\Python311\\Lib\\site-packages\\pandas\\_libs\\tslibs\\__init__.py:66\u001b[0m\n\u001b[0;32m     54\u001b[0m \u001b[39mfrom\u001b[39;00m \u001b[39mpandas\u001b[39;00m\u001b[39m.\u001b[39;00m\u001b[39m_libs\u001b[39;00m\u001b[39m.\u001b[39;00m\u001b[39mtslibs\u001b[39;00m\u001b[39m.\u001b[39;00m\u001b[39mnp_datetime\u001b[39;00m \u001b[39mimport\u001b[39;00m (\n\u001b[0;32m     55\u001b[0m     OutOfBoundsDatetime,\n\u001b[0;32m     56\u001b[0m     OutOfBoundsTimedelta,\n\u001b[1;32m   (...)\u001b[0m\n\u001b[0;32m     59\u001b[0m     py_get_unit_from_dtype \u001b[39mas\u001b[39;00m get_unit_from_dtype,\n\u001b[0;32m     60\u001b[0m )\n\u001b[0;32m     61\u001b[0m \u001b[39mfrom\u001b[39;00m \u001b[39mpandas\u001b[39;00m\u001b[39m.\u001b[39;00m\u001b[39m_libs\u001b[39;00m\u001b[39m.\u001b[39;00m\u001b[39mtslibs\u001b[39;00m\u001b[39m.\u001b[39;00m\u001b[39moffsets\u001b[39;00m \u001b[39mimport\u001b[39;00m (\n\u001b[0;32m     62\u001b[0m     BaseOffset,\n\u001b[0;32m     63\u001b[0m     Tick,\n\u001b[0;32m     64\u001b[0m     to_offset,\n\u001b[0;32m     65\u001b[0m )\n\u001b[1;32m---> 66\u001b[0m \u001b[39mfrom\u001b[39;00m \u001b[39mpandas\u001b[39;00m\u001b[39m.\u001b[39;00m\u001b[39m_libs\u001b[39;00m\u001b[39m.\u001b[39;00m\u001b[39mtslibs\u001b[39;00m\u001b[39m.\u001b[39;00m\u001b[39mperiod\u001b[39;00m \u001b[39mimport\u001b[39;00m (\n\u001b[0;32m     67\u001b[0m     IncompatibleFrequency,\n\u001b[0;32m     68\u001b[0m     Period,\n\u001b[0;32m     69\u001b[0m )\n\u001b[0;32m     70\u001b[0m \u001b[39mfrom\u001b[39;00m \u001b[39mpandas\u001b[39;00m\u001b[39m.\u001b[39;00m\u001b[39m_libs\u001b[39;00m\u001b[39m.\u001b[39;00m\u001b[39mtslibs\u001b[39;00m\u001b[39m.\u001b[39;00m\u001b[39mtimedeltas\u001b[39;00m \u001b[39mimport\u001b[39;00m (\n\u001b[0;32m     71\u001b[0m     Timedelta,\n\u001b[0;32m     72\u001b[0m     delta_to_nanoseconds,\n\u001b[0;32m     73\u001b[0m     ints_to_pytimedelta,\n\u001b[0;32m     74\u001b[0m )\n\u001b[0;32m     75\u001b[0m \u001b[39mfrom\u001b[39;00m \u001b[39mpandas\u001b[39;00m\u001b[39m.\u001b[39;00m\u001b[39m_libs\u001b[39;00m\u001b[39m.\u001b[39;00m\u001b[39mtslibs\u001b[39;00m\u001b[39m.\u001b[39;00m\u001b[39mtimestamps\u001b[39;00m \u001b[39mimport\u001b[39;00m Timestamp\n",
      "File \u001b[1;32m<frozen importlib._bootstrap>:405\u001b[0m, in \u001b[0;36mparent\u001b[1;34m(self)\u001b[0m\n",
      "\u001b[1;31mKeyboardInterrupt\u001b[0m: "
     ]
    }
   ],
   "source": [
    "import pandas as pd\n",
    "\n",
    "data = [10, 20, 30, 40, 50]\n",
    "series = pd.Series(data)\n",
    "\n",
    "print(series)\n"
   ]
  },
  {
   "cell_type": "code",
   "execution_count": null,
   "metadata": {},
   "outputs": [],
   "source": [
    "import pandas as pd\n",
    "\n",
    "data = {\n",
    "    'Nome': ['Alice', 'Bob', 'Charlie', 'David'],\n",
    "    'Idade': [25, 30, 22, 28],\n",
    "    'Cidade': ['São Paulo', 'Nova Iorque', 'Londres', 'Paris']\n",
    "}\n",
    "\n",
    "df = pd.DataFrame(data)\n",
    "\n",
    "print(df)\n"
   ]
  },
  {
   "cell_type": "code",
   "execution_count": null,
   "metadata": {},
   "outputs": [],
   "source": [
    "import pandas as pd\n",
    "\n",
    "data = {\n",
    "    'Nome': ['Alice', 'Bob', 'Charlie', 'David'],\n",
    "    'Idade': [25, 30, 22, 28],\n",
    "    'Cidade': ['São Paulo', 'Nova Iorque', 'Londres', 'Paris']\n",
    "}\n",
    "\n",
    "df = pd.DataFrame(data)\n",
    "\n",
    "# Adding a new row to the DataFrame\n",
    "new_row = {'Nome': 'Eva', 'Idade': 24, 'Cidade': 'Berlim'}\n",
    "new_row_df = pd.DataFrame([new_row])\n",
    "df = pd.concat([df, new_row_df], ignore_index=True)\n",
    "\n",
    "print(df)\n"
   ]
  },
  {
   "cell_type": "code",
   "execution_count": null,
   "metadata": {},
   "outputs": [],
   "source": [
    "import numpy as np\n",
    "import pandas as pd \n",
    "\n",
    "data = np.array([10,20,30,40,50])\n",
    "pandas_series = pd.Series(data=data)\n",
    "print (pandas_series)\n",
    "\n",
    "index= [\"a\", \"b\", \"c\", \"d\", \"e\"]\n",
    "pandas_series = pd.Series(data=data, index=index)\n",
    "print (pandas_series)\n",
    "\n",
    "def fx(x): return np.log(x)\n",
    "\n",
    "result = pandas_series.apply(fx)\n",
    "print (result)\n",
    "         "
   ]
  },
  {
   "cell_type": "code",
   "execution_count": null,
   "metadata": {},
   "outputs": [],
   "source": [
    "import pandas as pd\n",
    "\n",
    "data = {\n",
    "    'Nome': ['Alice', 'Bob', 'Charlie', 'David'],\n",
    "    'Idade': [25, 30, 33, 28],\n",
    "    'Cidade': ['São Paulo', 'Nova Iorque', 'Londres', 'Paris']\n",
    "}\n",
    "\n",
    "df = pd.DataFrame(data)\n",
    "\n",
    "print(df)\n"
   ]
  },
  {
   "cell_type": "code",
   "execution_count": null,
   "metadata": {},
   "outputs": [],
   "source": [
    "import pandas as pd\n",
    "\n",
    "data = {\n",
    "    'Nome': ['Alice', 'Bob', 'Charlie', 'David'],\n",
    "    'Idade': [25, 30, 33, 28],\n",
    "    'Cidade': ['São Paulo', 'Nova Iorque', 'Londres', 'Paris']\n",
    "}\n",
    "\n",
    "df = pd.DataFrame(data)\n",
    "\n",
    "# Adicionar uma nova coluna chamada 'Profissão'\n",
    "profissoes = ['Engenheiro', 'Designer', 'Analista', 'Programador']\n",
    "df['Profissão'] = profissoes\n",
    "\n",
    "print(df)\n"
   ]
  },
  {
   "cell_type": "code",
   "execution_count": null,
   "metadata": {},
   "outputs": [],
   "source": [
    "import pandas as pd\n",
    "\n",
    "data = {\n",
    "    'Nome': ['Alice', 'Bob', 'Charlie', 'David'],\n",
    "    'Idade': [25, 30, 22, 28],\n",
    "    'Cidade': ['São Paulo', 'Nova Iorque', 'Londres', 'Paris']\n",
    "}\n",
    "\n",
    "df = pd.DataFrame(data)\n",
    "\n",
    "# Set the 'Nome' column as the index\n",
    "df = df.set_index('Idade')\n",
    "\n",
    "print(df)\n"
   ]
  },
  {
   "cell_type": "code",
   "execution_count": null,
   "metadata": {},
   "outputs": [],
   "source": [
    "import pandas as pd\n",
    "\n",
    "data_frame = pd.read_csv(\"countries.csv\")\n",
    "print(data_frame.info())"
   ]
  },
  {
   "cell_type": "code",
   "execution_count": null,
   "metadata": {},
   "outputs": [],
   "source": [
    "data_frame[data_frame['continent'] == 'Europe']"
   ]
  },
  {
   "cell_type": "code",
   "execution_count": null,
   "metadata": {},
   "outputs": [],
   "source": [
    "max_life_expectancy = data_frame['life_expectancy'].max()\n",
    "\n",
    "print(max_life_expectancy)\n",
    "\n",
    "\n",
    "\n"
   ]
  },
  {
   "cell_type": "code",
   "execution_count": null,
   "metadata": {},
   "outputs": [],
   "source": [
    "max_population = data_frame['population'].max()\n",
    "print(max_population)"
   ]
  },
  {
   "cell_type": "code",
   "execution_count": null,
   "metadata": {},
   "outputs": [],
   "source": [
    "max_pop = data_frame['population'].max()\n",
    "data_frame[data_frame['population'] == max_pop ] [['name', 'population']]"
   ]
  },
  {
   "cell_type": "code",
   "execution_count": null,
   "metadata": {},
   "outputs": [],
   "source": [
    "data_frame['gnp'].mean()\n"
   ]
  },
  {
   "cell_type": "code",
   "execution_count": null,
   "metadata": {},
   "outputs": [],
   "source": [
    "import pandas as pd\n",
    "\n",
    "data = {\n",
    "    'Nome': ['Alice', 'Bob', 'Charlie', 'David'],\n",
    "    'Idade': [25, 30, 22, 28],\n",
    "    'Cidade': ['São Paulo', 'Nova Iorque', 'Londres', 'Paris']\n",
    "}\n",
    "\n",
    "df = pd.DataFrame(data)\n",
    "\n",
    "print(df)\n"
   ]
  },
  {
   "cell_type": "code",
   "execution_count": 113,
   "metadata": {},
   "outputs": [
    {
     "name": "stdout",
     "output_type": "stream",
     "text": [
      "<function f at 0x0000021BFF05A840>\n"
     ]
    }
   ],
   "source": [
    "def f(x):\n",
    "    x[2][0] = 15\n",
    "    x[2] = x[0]\n",
    "    return x\n",
    "\n",
    "c = [[1, 2, 3], [4, 5, 6], [7, 8, 9]]\n",
    "d = f(c)\n",
    "\n",
    "print(f\"{d[1]} {d[2]} {d[0] is d[1]}\")\n"
   ]
  },
  {
   "cell_type": "code",
   "execution_count": null,
   "metadata": {},
   "outputs": [],
   "source": [
    "def f(x):\n",
    "    if x >= 1:\n",
    "        return x * f(x - 1)\n",
    "    else:\n",
    "        return x\n",
    "\n",
    "print(f(5 // 2))\n"
   ]
  },
  {
   "cell_type": "code",
   "execution_count": null,
   "metadata": {},
   "outputs": [],
   "source": [
    "def f(x):\n",
    "    if x <= 1:\n",
    "        return x\n",
    "    else:\n",
    "        return f(x - 1) + f(x - 2)\n",
    "\n",
    "\n",
    "print(f(4))"
   ]
  },
  {
   "cell_type": "code",
   "execution_count": 24,
   "metadata": {},
   "outputs": [
    {
     "name": "stdout",
     "output_type": "stream",
     "text": [
      "Lista desordenada: [6, 5, 3, 1]\n",
      "Lista ordenada: [6, 5, 3, 1]\n"
     ]
    }
   ],
   "source": [
    "def f(x):\n",
    "    n = len(x)\n",
    "    for i in range(n):\n",
    "        for j in range(n - i - 1):\n",
    "            if x[j] < x[j + 1]:\n",
    "                x[j], x[j + 1] = x[j + 1], x[j]\n",
    "    return x\n",
    "\n",
    "# Exemplo de uso\n",
    "unsorted_list = [3, 5, 6, 1,]\n",
    "sorted_list = f(unsorted_list)\n",
    "print(\"Lista desordenada:\", unsorted_list)\n",
    "print(\"Lista ordenada:\", sorted_list)\n"
   ]
  },
  {
   "cell_type": "code",
   "execution_count": 25,
   "metadata": {},
   "outputs": [
    {
     "name": "stdout",
     "output_type": "stream",
     "text": [
      "[3, 9, 10, 27, 38, 43, 82]\n"
     ]
    }
   ],
   "source": [
    "def f(x):\n",
    "    n = len(x)\n",
    "    for i in range(n):\n",
    "        for j in range(n - i - 1):\n",
    "            if x[j] > x[j + 1]:\n",
    "                x[j], x[j + 1] = x[j + 1], x[j]\n",
    "    return x\n",
    "\n",
    "sample_list = [38, 27, 43, 3, 9, 82, 10]\n",
    "print(f(sample_list))\n"
   ]
  },
  {
   "cell_type": "code",
   "execution_count": 111,
   "metadata": {},
   "outputs": [
    {
     "name": "stdout",
     "output_type": "stream",
     "text": [
      "[82, 43, 38, 27, 10, 9, 3]\n"
     ]
    }
   ],
   "source": [
    "def f(x):\n",
    "    if len(x) < 2:\n",
    "        return x\n",
    "\n",
    "    p = x[0]\n",
    "\n",
    "    l = [i for i in x[1:] if i >= p]\n",
    "    r = [i for i in x[1:] if i < p]\n",
    "\n",
    "    return f(l) + [p] + f(r)\n",
    "\n",
    "\n",
    "sample_list = [38, 27, 43, 3, 9, 82, 10]\n",
    "print(f(sample_list))\n",
    "\n",
    "\n"
   ]
  },
  {
   "cell_type": "code",
   "execution_count": 28,
   "metadata": {},
   "outputs": [
    {
     "name": "stdout",
     "output_type": "stream",
     "text": [
      "1\n"
     ]
    }
   ],
   "source": [
    "x = 4\n",
    "y = 1 \n",
    "print(y % x)"
   ]
  },
  {
   "cell_type": "code",
   "execution_count": 29,
   "metadata": {},
   "outputs": [
    {
     "name": "stdout",
     "output_type": "stream",
     "text": [
      "[-6, -3, 1, 2, 3, 5, 6, 8, 9]\n"
     ]
    }
   ],
   "source": [
    "def f(x):\n",
    "    if len(x) < 2:\n",
    "        return x\n",
    "\n",
    "    p = x[0]\n",
    "\n",
    "    l = [i for i in x[1:] if i <= p]\n",
    "    r = [i for i in x[1:] if i > p]\n",
    "\n",
    "    return f(l) + [p] + f(r)\n",
    "\n",
    "x = [9, -3, 5, 2, 6, 8, -6, 1, 3]\n",
    "print(f(x))\n"
   ]
  },
  {
   "cell_type": "code",
   "execution_count": 30,
   "metadata": {},
   "outputs": [
    {
     "name": "stdout",
     "output_type": "stream",
     "text": [
      "10\n",
      "9\n",
      "8\n",
      "7\n",
      "6\n",
      "5\n",
      "4\n",
      "3\n",
      "2\n",
      "1\n",
      "Countdown complete!\n",
      "None\n"
     ]
    }
   ],
   "source": [
    "def f(n):\n",
    "    if n <= 0:\n",
    "        print(\"Countdown complete!\")\n",
    "    else:\n",
    "        print(n)\n",
    "        f(n - 1)\n",
    "\n",
    "\n",
    "print(f(10))        \n"
   ]
  },
  {
   "cell_type": "code",
   "execution_count": 35,
   "metadata": {},
   "outputs": [
    {
     "name": "stdout",
     "output_type": "stream",
     "text": [
      "8\n"
     ]
    }
   ],
   "source": [
    "def f(x):\n",
    "    if len(x) == 1:\n",
    "        return x[0]\n",
    "    else:\n",
    "        value = f(x[1:])\n",
    "        return x[0] if x[0] > value else value\n",
    "\n",
    "my_array = [-3, 5, 2, 6, 8, -6, 1, 3]\n",
    "print(f(my_array))\n"
   ]
  },
  {
   "cell_type": "code",
   "execution_count": 44,
   "metadata": {},
   "outputs": [
    {
     "name": "stdout",
     "output_type": "stream",
     "text": [
      "[0, 2, 4, 6, 8]\n"
     ]
    }
   ],
   "source": [
    "a = [ x for x in range(10) if x % 2 == 0]\n",
    "\n",
    "print(a)"
   ]
  },
  {
   "cell_type": "code",
   "execution_count": 45,
   "metadata": {},
   "outputs": [
    {
     "name": "stdout",
     "output_type": "stream",
     "text": [
      "[1, 'refugeeks'] refugeeks 1\n"
     ]
    }
   ],
   "source": [
    "# a = 1\n",
    "# b = \"refugeeks\"\n",
    "# c = [a, b]\n",
    "# a = 5 % 2\n",
    "# print(f\"{c} {b} {a}\")\n"
   ]
  },
  {
   "cell_type": "code",
   "execution_count": 127,
   "metadata": {},
   "outputs": [
    {
     "name": "stdout",
     "output_type": "stream",
     "text": [
      "[[1 3]\n",
      " [4 6]\n",
      " [7 9]]\n"
     ]
    }
   ],
   "source": [
    "import numpy as np\n",
    "A = np.array([[1, 2, 3], [4, 5, 6], [7, 8, 9]])\n",
    "B = A[:, ::2]\n",
    "print(B)\n"
   ]
  },
  {
   "cell_type": "code",
   "execution_count": 61,
   "metadata": {},
   "outputs": [
    {
     "name": "stdout",
     "output_type": "stream",
     "text": [
      "[[4, 5, 6], [4, 5, 6], [10, 8, 9]]\n"
     ]
    }
   ],
   "source": [
    "def f(a):\n",
    "    a[0] = a[1]\n",
    "    a[2][0] = 10\n",
    "    return a\n",
    "\n",
    "c = [[1, 2, 3], [4, 5, 6], [7, 8, 9]]\n",
    "d = f(c)\n",
    "\n",
    "print(d)\n"
   ]
  },
  {
   "cell_type": "code",
   "execution_count": 117,
   "metadata": {},
   "outputs": [
    {
     "name": "stdout",
     "output_type": "stream",
     "text": [
      "3\n",
      "2\n",
      "1\n",
      "0\n"
     ]
    },
    {
     "data": {
      "text/plain": [
       "0"
      ]
     },
     "execution_count": 117,
     "metadata": {},
     "output_type": "execute_result"
    }
   ],
   "source": [
    "def f(a):\n",
    "    print(a)\n",
    "    if a >=1:\n",
    "        return f(a-1)\n",
    "    else:\n",
    "        return a\n",
    "f(3)"
   ]
  },
  {
   "cell_type": "code",
   "execution_count": 65,
   "metadata": {},
   "outputs": [
    {
     "name": "stdout",
     "output_type": "stream",
     "text": [
      "1\n"
     ]
    }
   ],
   "source": [
    "x = 5\n",
    "y = 2\n",
    "print(x % y)"
   ]
  },
  {
   "cell_type": "code",
   "execution_count": 66,
   "metadata": {},
   "outputs": [
    {
     "name": "stdout",
     "output_type": "stream",
     "text": [
      "0\n"
     ]
    }
   ],
   "source": [
    "def f(x):\n",
    "    if len(x) == 1:\n",
    "        return x[0]\n",
    "    else:\n",
    "        value = f(x[1:])\n",
    "        return x[0] if x[0] < value else value\n",
    "\n",
    "my_array = [0, 0.5, .2, .9, 1., 7.]\n",
    "print(f(my_array))\n"
   ]
  },
  {
   "cell_type": "code",
   "execution_count": 67,
   "metadata": {},
   "outputs": [
    {
     "name": "stdout",
     "output_type": "stream",
     "text": [
      "4\n"
     ]
    }
   ],
   "source": [
    "a = [1,2,3,4,5]\n",
    "print(a[-2])"
   ]
  },
  {
   "cell_type": "code",
   "execution_count": 93,
   "metadata": {},
   "outputs": [
    {
     "name": "stdout",
     "output_type": "stream",
     "text": [
      "(3, 2)\n"
     ]
    }
   ],
   "source": [
    "import numpy as np\n",
    "A = np.array([[1,2,3],[4,5,6],[7,8,9]])\n",
    "B = A[:, ::2]\n",
    "print (B.shape)"
   ]
  },
  {
   "cell_type": "code",
   "execution_count": 96,
   "metadata": {},
   "outputs": [
    {
     "name": "stdout",
     "output_type": "stream",
     "text": [
      "[82, 43, 38, 27, 10, 9, 3]\n"
     ]
    }
   ],
   "source": [
    "def f(x):\n",
    "    def g(l, r):  # Corrigido: Adicione os nomes dos argumentos corretamente (1 -> l, r -> r)\n",
    "        result = []\n",
    "        i, j = 0, 0\n",
    "        while i < len(l) and j < len(r):\n",
    "            if l[i] > r[j]:\n",
    "                result.append(l[i])\n",
    "                i += 1\n",
    "            else:  # Corrigido: O else estava mal posicionado no código original\n",
    "                result.append(r[j])\n",
    "                j += 1\n",
    "        result += l[i:]\n",
    "        result += r[j:]\n",
    "        return result\n",
    "\n",
    "    if len(x) <= 1:\n",
    "        return x\n",
    "    m = len(x) // 2\n",
    "    l = f(x[:m])\n",
    "    r = f(x[m:])\n",
    "    return g(l, r)  # Corrigido: Chame a função g com os argumentos l e r\n",
    "\n",
    "sample_list = [38, 27, 43, 3, 9, 82, 10]\n",
    "results = f(sample_list)\n",
    "print(results)\n"
   ]
  },
  {
   "cell_type": "code",
   "execution_count": 97,
   "metadata": {},
   "outputs": [
    {
     "name": "stdout",
     "output_type": "stream",
     "text": [
      "[4, 5, 6] [7, 8, 9] False \n"
     ]
    }
   ],
   "source": [
    "f = lambda x: [[15 if i == 0 and j == 2 else x[i][j] for j in range(len(x[i]))] if i == 2 else x[i] for i in range(len(x))]\n",
    "c= [[1,2,3],[4,5,6],[7,8,9]]\n",
    "d= f(c)\n",
    "\n",
    "print(f\"{d[1]} {d[2]} {d[0] is d[1]} \")\n",
    "\n"
   ]
  },
  {
   "cell_type": "code",
   "execution_count": 99,
   "metadata": {},
   "outputs": [
    {
     "name": "stdout",
     "output_type": "stream",
     "text": [
      "9765625\n"
     ]
    }
   ],
   "source": [
    "def f(a, b):\n",
    "    if b == 0:\n",
    "        return 1\n",
    "    elif b < 0:\n",
    "        return 1 / f(a, -b)\n",
    "    elif b % 2 == 0:\n",
    "        c = f(a, b // 2)\n",
    "        return c * c  \n",
    "    else:\n",
    "        return a * f(a, b - 1)\n",
    "\n",
    "print(f(5, 10))\n"
   ]
  },
  {
   "cell_type": "code",
   "execution_count": 100,
   "metadata": {},
   "outputs": [
    {
     "name": "stdout",
     "output_type": "stream",
     "text": [
      "nohtyP\n"
     ]
    }
   ],
   "source": [
    "def reverseString(string):\n",
    "    # Base case: If the string is empty or has only one character, return it\n",
    "    if len(string) <= 1:\n",
    "        return string\n",
    "    \n",
    "    # Recursive case: Reverse the substring starting from the second character\n",
    "    # and then append the first character at the end\n",
    "    return reverseString(string[1:]) + string[0]\n",
    "\n",
    "# Example usage\n",
    "input_string = \"Python\"\n",
    "reversed_string = reverseString(input_string)\n",
    "print(reversed_string)  # Output: \"nohtyP\"\n"
   ]
  },
  {
   "cell_type": "code",
   "execution_count": 110,
   "metadata": {},
   "outputs": [
    {
     "name": "stdout",
     "output_type": "stream",
     "text": [
      "15\n"
     ]
    }
   ],
   "source": [
    "def x(a):\n",
    "    if not a:\n",
    "        return 0\n",
    "    return a[0] + x(a[1:])\n",
    "\n",
    "my_list = [1, 2, 3, 4, 5]\n",
    "z = x(my_list)\n",
    "print(z)\n"
   ]
  },
  {
   "cell_type": "code",
   "execution_count": null,
   "metadata": {},
   "outputs": [],
   "source": []
  }
 ],
 "metadata": {
  "kernelspec": {
   "display_name": "Python 3",
   "language": "python",
   "name": "python3"
  },
  "language_info": {
   "codemirror_mode": {
    "name": "ipython",
    "version": 3
   },
   "file_extension": ".py",
   "mimetype": "text/x-python",
   "name": "python",
   "nbconvert_exporter": "python",
   "pygments_lexer": "ipython3",
   "version": "3.11.3"
  },
  "orig_nbformat": 4
 },
 "nbformat": 4,
 "nbformat_minor": 2
}
