{
 "cells": [
  {
   "cell_type": "markdown",
   "metadata": {},
   "source": [
    "# Task 2.1 - Lists\n",
    "In your online shop, you are still offering the following TVs:\n",
    "- Zamzung Model X (430€)\n",
    "- Zamzung Model Y (1,233.99€)\n",
    "- GL TV1          (981€)\n",
    "- Philipp Nr.2   (780€)\n",
    "\n",
    "The TVs are shown in exactly this order on your website."
   ]
  },
  {
   "cell_type": "code",
   "execution_count": 1,
   "metadata": {},
   "outputs": [
    {
     "name": "stdout",
     "output_type": "stream",
     "text": [
      "['Zamzung Model X', 'Zamzung Model Y', 'GL TV1', 'Philipp Nr.2']\n"
     ]
    }
   ],
   "source": [
    "# TODO: Create a list with the name `offered_tvs` that contains the names of the offered TVs in the order shown above\n",
    "\n",
    "\n",
    "offered_tvs = [\"Zamzung Model X\", \"Zamzung Model Y\", \"GL TV1\", \"Philipp Nr.2\"]\n",
    "print(offered_tvs)"
   ]
  },
  {
   "cell_type": "markdown",
   "metadata": {},
   "source": [
    "Some customers have the annoying habit of ordering TVs by simply specifying the position of the TV on your website. Retrieve the correct TVs for their orders from `offered_tvs`:"
   ]
  },
  {
   "cell_type": "code",
   "execution_count": 2,
   "metadata": {},
   "outputs": [
    {
     "name": "stdout",
     "output_type": "stream",
     "text": [
      "GL TV1\n"
     ]
    }
   ],
   "source": [
    "# TODO: \"I want the third TV.\"\n",
    "\n",
    "print(offered_tvs[2])"
   ]
  },
  {
   "cell_type": "code",
   "execution_count": null,
   "metadata": {},
   "outputs": [],
   "source": [
    "# TODO: \"I would like to order the last TV.\"\n",
    "print(offered_tvs[-1])"
   ]
  },
  {
   "cell_type": "code",
   "execution_count": null,
   "metadata": {},
   "outputs": [],
   "source": [
    "# TODO: \"The second to last TV, please.\"\n",
    "# HINT: Use negative indexing!\n",
    "\n",
    "print(offered_tvs[-2])"
   ]
  },
  {
   "cell_type": "code",
   "execution_count": 3,
   "metadata": {},
   "outputs": [
    {
     "name": "stdout",
     "output_type": "stream",
     "text": [
      "['Zamzung Model X', 'Zamzung Model Y']\n"
     ]
    }
   ],
   "source": [
    "# TODO: \"Give me the first and the second.\"\n",
    "# HINT: Use slicing!\n",
    "\n",
    "print(offered_tvs[0:2])"
   ]
  },
  {
   "cell_type": "code",
   "execution_count": 5,
   "metadata": {},
   "outputs": [
    {
     "name": "stdout",
     "output_type": "stream",
     "text": [
      "['Zamzung Model Y', 'GL TV1']\n"
     ]
    }
   ],
   "source": [
    "# TODO: \"Give me all TVs except the first and the last.\"\n",
    "\n",
    "print(offered_tvs[1:-1])"
   ]
  },
  {
   "cell_type": "code",
   "execution_count": 6,
   "metadata": {},
   "outputs": [
    {
     "name": "stdout",
     "output_type": "stream",
     "text": [
      "Zamzung Model Y Philipp Nr.2\n"
     ]
    }
   ],
   "source": [
    "# TODO: \"The second and the last TV, but in one list please.\"\n",
    "# HINT: Here you can't use slicing. But you can access the list elements individually and put them in a new list.\n",
    "\n",
    "print(offered_tvs[1], offered_tvs[-1])"
   ]
  },
  {
   "cell_type": "markdown",
   "metadata": {},
   "source": [
    "Customers really like the `Zamzung Model Y`. To push it even more, you decide to change its name in your list to `Zamzung Model Y **almost sold out**`."
   ]
  },
  {
   "cell_type": "code",
   "execution_count": 10,
   "metadata": {},
   "outputs": [
    {
     "data": {
      "text/plain": [
       "['Zamzung Model X',\n",
       " 'Zamzung Model Y almost sold out',\n",
       " 'GL TV1',\n",
       " 'Philipp Nr.2']"
      ]
     },
     "execution_count": 10,
     "metadata": {},
     "output_type": "execute_result"
    }
   ],
   "source": [
    "# TODO: Change the name of the TV in `offered_tvs`\n",
    "\n",
    "offered_tvs[1] = \"Zamzung Model Y almost sold out\"\n",
    "\n",
    "offered_tvs"
   ]
  },
  {
   "cell_type": "code",
   "execution_count": 11,
   "metadata": {},
   "outputs": [
    {
     "data": {
      "text/plain": [
       "['Zamzung Model X', 'GL TV1', 'Philipp Nr.2']"
      ]
     },
     "execution_count": 11,
     "metadata": {},
     "output_type": "execute_result"
    }
   ],
   "source": [
    "# TODO: Your marketing activity helped - the TV is out of stock. Remove it from your list.\n",
    "\n",
    "del offered_tvs[1]\n",
    "offered_tvs"
   ]
  },
  {
   "cell_type": "markdown",
   "metadata": {},
   "source": [
    "# Task 2.2 - Using Built-in Functions\n",
    "Let's work a little bit more with the prices of the offered TVs."
   ]
  },
  {
   "cell_type": "code",
   "execution_count": 17,
   "metadata": {},
   "outputs": [
    {
     "ename": "NameError",
     "evalue": "name 'offered_tv' is not defined",
     "output_type": "error",
     "traceback": [
      "\u001b[1;31m---------------------------------------------------------------------------\u001b[0m",
      "\u001b[1;31mNameError\u001b[0m                                 Traceback (most recent call last)",
      "Cell \u001b[1;32mIn[17], line 5\u001b[0m\n\u001b[0;32m      1\u001b[0m offered_tv_prices \u001b[39m=\u001b[39m []\n\u001b[0;32m      3\u001b[0m \u001b[39m# TODO: Add all the prices of the TVs to `offered_tv_prices` using its `append()` function.\u001b[39;00m\n\u001b[1;32m----> 5\u001b[0m offered_tv\u001b[39m.\u001b[39mappend(\u001b[39m430\u001b[39m)\n\u001b[0;32m      7\u001b[0m \u001b[39mprint\u001b[39m(offered_tv_prices)\n",
      "\u001b[1;31mNameError\u001b[0m: name 'offered_tv' is not defined"
     ]
    }
   ],
   "source": [
    "offered_tv_prices = []\n",
    "\n",
    "# TODO: Add all the prices of the TVs to `offered_tv_prices` using its `append()` function.\n",
    "\n",
    "offered_tv.append(430)\n",
    "\n",
    "print(offered_tv_prices)"
   ]
  },
  {
   "cell_type": "markdown",
   "metadata": {},
   "source": [
    "The `sum()` function computes the sum of all the elements of a list, which is passed as a parameter. For example, `sum([1,2,3])` returns `6`."
   ]
  },
  {
   "cell_type": "code",
   "execution_count": 8,
   "metadata": {},
   "outputs": [],
   "source": [
    "# TODO: Compute the sum of the prices of all TVs using the `sum()` function."
   ]
  },
  {
   "cell_type": "code",
   "execution_count": null,
   "metadata": {},
   "outputs": [],
   "source": [
    "# TODO: Compute the average price of a TV using only the `sum()` and the `len()` function."
   ]
  },
  {
   "cell_type": "markdown",
   "metadata": {},
   "source": [
    "The `range()` function returns a sequence of numbers. With the `sum()` function, we can compute the sums of such sequences:"
   ]
  },
  {
   "cell_type": "code",
   "execution_count": 10,
   "metadata": {},
   "outputs": [],
   "source": [
    "# TODO: Compute the sum of all numbers from 1 to 10.\n",
    "# HINT: Remember that the `stop` parameter is exclusive."
   ]
  },
  {
   "cell_type": "code",
   "execution_count": null,
   "metadata": {},
   "outputs": [],
   "source": [
    "# TODO: Compute the sum of all numbers from 15 to 73.\n",
    "# HINT: Remember that the `start` parameter is inclusive."
   ]
  },
  {
   "cell_type": "code",
   "execution_count": null,
   "metadata": {},
   "outputs": [],
   "source": [
    "# TODO: Compute the sum of all *even* numbers from 14 to 72.\n",
    "# HINT: The `range()` function can take a third parameter that specifies the step size.\n",
    "# For example, `range(0, 21, 5)` returns the sequence 0, 5, 10, 15, 20"
   ]
  },
  {
   "cell_type": "markdown",
   "metadata": {},
   "source": [
    "You want to use the `range()` function to design a discount system for your customers. If a customers buys up to 5 products, you give a discount of 1% per bought product (e.g. if the customer buys 4 TVs, you give 4% discount). For every additional product bought, you give an additional 1% discount (e.g. if the customer buys 7 TVs, you give 1% each for the first 5 products and 2% each for the other 2 products, yielding a total discount of 9%). We assume that customers never buy more than 20 products."
   ]
  },
  {
   "cell_type": "code",
   "execution_count": null,
   "metadata": {},
   "outputs": [],
   "source": [
    "# TODO: Create a list for this discount mechanism. The index represents the bought number of products.\n",
    "# Use the `range()` function to create this list. Assign the list to the variable `product_discount`.\n",
    "# Example: `product_discount[4]` should return 4; `product_discount[7]` should return 9.\n",
    "# HINT: Don't forget to convert the result of the range function to a list so that you can use it.\n",
    "# HINT: You might need to use the `range()` function twice. You can concatenate the lists with the `+` operator."
   ]
  },
  {
   "cell_type": "code",
   "execution_count": null,
   "metadata": {},
   "outputs": [],
   "source": [
    "# TODO: How much discount does a customer get when buying 19 products?"
   ]
  },
  {
   "cell_type": "markdown",
   "metadata": {},
   "source": [
    "# Task 2.3 - Tuples, Sets, and Dictionaries"
   ]
  },
  {
   "cell_type": "markdown",
   "metadata": {},
   "source": [
    "You have changed your online shop system to use product identifiers instead of product names when taking orders from customers. The identifiers and stocks for your TVs are as follows:\n",
    "\n",
    "- Zamzung Model X: 1001 (stock: 5)\n",
    "- Zamzung Model Y: 1002 (stock: 3)\n",
    "- GL TV1: 2001 (stock: 5)\n",
    "- Philipp Nr.2: 3001 (stock: 3)\n",
    "\n",
    "An order is represented as a list of product identifiers. When a customer orders one product multiple times, the identifier is also contained multiple times in this list. These are some orders in your system:"
   ]
  },
  {
   "cell_type": "code",
   "execution_count": null,
   "metadata": {},
   "outputs": [],
   "source": [
    "order1 = [1001, 2001, 3001, 3001, 1001, 1001]\n",
    "order2 = [1002, 1002, 1002]\n",
    "order3 = [1001, 1002, 2001, 3001]\n",
    "\n",
    "# TODO: Write code that finds the number of different products in a single order.\n",
    "# HINT: Sets are unique collections of elements, i.e. a value can be at most once in a set. A set could help here."
   ]
  },
  {
   "cell_type": "markdown",
   "metadata": {},
   "source": [
    "As you have learned about dictionaries, you would like to represent your offered products in a dictionary."
   ]
  },
  {
   "cell_type": "code",
   "execution_count": null,
   "metadata": {},
   "outputs": [],
   "source": [
    "# TODO: Create the dict `products` which has the item identifier as key and the name of the TV as value."
   ]
  },
  {
   "cell_type": "code",
   "execution_count": null,
   "metadata": {},
   "outputs": [],
   "source": [
    "# TODO: Extend the `products` dictionary into a multi-dimensional dictionary containing all the product information.\n",
    "# Instead of the name, the value should be another dictionary containing the name, brand, and price of the product."
   ]
  },
  {
   "cell_type": "code",
   "execution_count": 18,
   "metadata": {},
   "outputs": [],
   "source": [
    "# TODO: Now add stock information to the products."
   ]
  },
  {
   "cell_type": "markdown",
   "metadata": {},
   "source": [
    "# Task 2.4 - Conditional Statements"
   ]
  },
  {
   "cell_type": "markdown",
   "metadata": {},
   "source": [
    "You realise that your discount system can also be implemented with conditional statements instead of a list. You decide to reimplement the system that way. Additionally, you decided that the discount does not increase when buying more than 20 products. Thus, when buying 25 products, a customer still gets a discount of 35%."
   ]
  },
  {
   "cell_type": "code",
   "execution_count": null,
   "metadata": {},
   "outputs": [],
   "source": [
    "number_of_products_ordered = 17\n",
    "\n",
    "# TODO: Implement the discount system without a list - only using conditional statements.\n",
    "# The variable `order_discount` should hold the correct discount for `number_of_products_ordered`.\n",
    "# Test your program with 0, 3, 6, 10, 20, 24 products.\n",
    "# HINT: Make sure to handle the case correctly when more than 20 products are ordered.\n",
    "\n",
    "print(order_discount)"
   ]
  },
  {
   "cell_type": "markdown",
   "metadata": {},
   "source": [
    "You would like to digitize your stock-keeping so that the stock of your products is tracked automatically. With conditional statements, you can make the first step into this direction:"
   ]
  },
  {
   "cell_type": "code",
   "execution_count": null,
   "metadata": {},
   "outputs": [],
   "source": [
    "order_product = 1002\n",
    "order_amount = 3\n",
    "\n",
    "# TODO: Print 'Product available' if there is sufficient stock in `products`. Else print 'Product unavailable'."
   ]
  },
  {
   "cell_type": "markdown",
   "metadata": {},
   "source": [
    "Furthermore, you want to make sure that your customers use safe passwords for their accounts in your online shop. The best indicator for the safety of a password is its length."
   ]
  },
  {
   "cell_type": "code",
   "execution_count": null,
   "metadata": {},
   "outputs": [],
   "source": [
    "an_unsafe_password = 'Hello'\n",
    "a_safe_password = 'qjwrioNRWQD214*Q&&%!t'\n",
    "\n",
    "# TODO: Print 'SAFE!' if the password has a length of 10 or more. Otherwise print 'UNSAFE!'.\n",
    "# HINT: With the `len()` function you can not only get the length of a container, but of a string as well."
   ]
  },
  {
   "cell_type": "markdown",
   "metadata": {},
   "source": [
    "# Task 2.5 - Loops"
   ]
  },
  {
   "cell_type": "markdown",
   "metadata": {},
   "source": [
    "Let's start by using a convenient feature of Python with respect to loops: We can loop over the single characters of a string. Hence, when using the word `test` to loop over, the first iteration would be `t`, the second `e`, the third `s`, and the fourth `t`.\n",
    "\n",
    "In the next cell is the text `python_description` which contains a hidden message. The hidden message is conveyed through the uppercase characters in the text. Loop over the text and print only these characters to discover the secret message.\n",
    "\n",
    "HINT: To check, whether a character `c` is uppercase, you can use the function `isupper()` of the character. The call `c.isupper()` returns `True` if `c` is uppercase, and `False` otherwise."
   ]
  },
  {
   "cell_type": "code",
   "execution_count": null,
   "metadata": {},
   "outputs": [],
   "source": [
    "python_description = \"pytHon is an intErpreted, high-LeveL, general-purpOse prograMming lANguage. created by guido vaN rossum and first released in 1991, pytHon's dEsIgn philosophy eMphasizes code readability with its notable use of significant whitespace.\"\n",
    "\n",
    "# TODO: Loop over the string `python_description` and discover the message hidden in its upper characters."
   ]
  },
  {
   "cell_type": "markdown",
   "metadata": {},
   "source": [
    "Now it's time to change the format of the orders above (`order1`, `order2`, `order3`) into a more intuitive representation using a dictionary."
   ]
  },
  {
   "cell_type": "code",
   "execution_count": null,
   "metadata": {},
   "outputs": [],
   "source": [
    "# TODO: Create a new dictionary `new_order1` with product identifer as key and the ordered amount as value.\n",
    "# To do that, iterate over `order1` and count the occurrences of the respective product identifiers.\n",
    "# HINT: You should always check that the dictionary contains an item identifier, before you try to increase it."
   ]
  },
  {
   "cell_type": "code",
   "execution_count": null,
   "metadata": {},
   "outputs": [],
   "source": [
    "# TODO: Run the same code as above for `order2` and `order3` to produce the respective dictionary versions."
   ]
  },
  {
   "cell_type": "markdown",
   "metadata": {},
   "source": [
    "Having this convenient representation of an order, we would now like to process them:"
   ]
  },
  {
   "cell_type": "code",
   "execution_count": null,
   "metadata": {},
   "outputs": [],
   "source": [
    "for order in [new_order1, new_order2, new_order3]:\n",
    "    # TODO: Iterate through the order items and check for every item if sufficient stock is available.\n",
    "    #       If there is at least one item without enough stock, print \"Can't process order due to missing stock.\"\n",
    "    #       and continue with the next order without processing this order any further.\n",
    "    # HINT: The 'break' and 'continue' keywords only influence the innermost loop in which they are called.\n",
    "    #       If you want to influence the outer loop, use a boolean variable to record whether an item is out of stock.\n",
    "    \n",
    "    # TODO: Iterate through the order items and reduce the stock of the respective item in the `products` dictionary.\n",
    "    \n",
    "    print('Order processed successfully.')\n",
    "\n",
    "print('All orders processed.')"
   ]
  },
  {
   "cell_type": "markdown",
   "metadata": {},
   "source": [
    "# Task 2.6 - Container Comprehensions"
   ]
  },
  {
   "cell_type": "markdown",
   "metadata": {},
   "source": [
    "Comprehensions are a very convenient and intuitive way to work with containers. With them, we can easily filter, combine, and replace values to fulfill a task."
   ]
  },
  {
   "cell_type": "code",
   "execution_count": null,
   "metadata": {},
   "outputs": [],
   "source": [
    "product_ids = [1001, 1002, 1003, 2000, 2001, 2003, 3001, 3002, 3003, 4001, 5001, 5002]\n",
    "\n",
    "# TODO: Use a list comprehension to find all the items that end with a 1 in `product_ids`. Assign it to `product_ids`.\n",
    "# HINT: To find out whether an integer ends in a 1, the modulo operator could be helpful.\n",
    "\n",
    "# TODO: Use a list comprehension to further reduce `product_ids` to items that are also contained in `products`.\n",
    "\n",
    "# TODO: Create a list that contains the product names of the items in `product_ids`. Assign it to `product_names`."
   ]
  },
  {
   "cell_type": "markdown",
   "metadata": {},
   "source": [
    "Instead of doing one thing at a time, one can use comprehensions to perform all these tasks together in the same comprehension (e.g. by combining multiple boolean conditions with the `and` operator)."
   ]
  },
  {
   "cell_type": "code",
   "execution_count": null,
   "metadata": {},
   "outputs": [],
   "source": [
    "product_ids = [1001, 1002, 1003, 2000, 2001, 2003, 3001, 3002, 3003, 4001, 5001, 5002]\n",
    "# TODO: Create `product_names` with the exact same content as above but use only one list comprehension to do it."
   ]
  },
  {
   "cell_type": "markdown",
   "metadata": {},
   "source": [
    "For dictionaries, comprehensions are very useful as well. Filtering is here also possible in multiple dimensions."
   ]
  },
  {
   "cell_type": "code",
   "execution_count": null,
   "metadata": {},
   "outputs": [],
   "source": [
    "# TODO: Create the variable `zamzung_products` that contains the items of `products` which have the brand 'Zamzung'."
   ]
  }
 ],
 "metadata": {
  "kernelspec": {
   "display_name": "Python 3",
   "language": "python",
   "name": "python3"
  },
  "language_info": {
   "codemirror_mode": {
    "name": "ipython",
    "version": 3
   },
   "file_extension": ".py",
   "mimetype": "text/x-python",
   "name": "python",
   "nbconvert_exporter": "python",
   "pygments_lexer": "ipython3",
   "version": "3.11.3"
  }
 },
 "nbformat": 4,
 "nbformat_minor": 2
}
