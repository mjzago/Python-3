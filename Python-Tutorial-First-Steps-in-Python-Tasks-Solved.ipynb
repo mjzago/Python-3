{
 "cells": [
  {
   "cell_type": "markdown",
   "metadata": {},
   "source": [
    "# Task 1 - Calculation with Python"
   ]
  },
  {
   "cell_type": "markdown",
   "metadata": {},
   "source": [
    "You have built up a small business selling hardware online in your own store. Currently, you offer four different TV models:\n",
    "\n",
    "- Zamzung Model X (430€)\n",
    "- Zamzung Model Y (1,233.99€)\n",
    "- GL TV1          (981€)\n",
    "- Philipp Nr.2   (780€)"
   ]
  },
  {
   "cell_type": "code",
   "execution_count": 1,
   "metadata": {},
   "outputs": [
    {
     "data": {
      "text/plain": [
       "856.2475"
      ]
     },
     "execution_count": 1,
     "metadata": {},
     "output_type": "execute_result"
    }
   ],
   "source": [
    "# TODO: Compute the average price of your TVs\n",
    "(430 + 1233.99 + 981 + 780) / 4"
   ]
  },
  {
   "cell_type": "markdown",
   "metadata": {},
   "source": [
    "Last year you made a profit of 5,000€. You're considering to invest it into a new layout for your online shop. This should increase your profit by 10% each year."
   ]
  },
  {
   "cell_type": "code",
   "execution_count": 2,
   "metadata": {},
   "outputs": [
    {
     "data": {
      "text/plain": [
       "6655.000000000002"
      ]
     },
     "execution_count": 2,
     "metadata": {},
     "output_type": "execute_result"
    }
   ],
   "source": [
    "# TODO: Compute how high your profit will be in 3 years (if all else is equal)\n",
    "5000 * 1.1 ** 3"
   ]
  },
  {
   "cell_type": "markdown",
   "metadata": {},
   "source": [
    "# Task 2 - Variables"
   ]
  },
  {
   "cell_type": "markdown",
   "metadata": {},
   "source": [
    "Now, you would like to compute the price variance of your TVs (reminder: $Var(X)=E[(X-mean)^2]$ ). Use the variables `tv_price_average` and `tv_price_variance` to store your calculations."
   ]
  },
  {
   "cell_type": "code",
   "execution_count": 4,
   "metadata": {},
   "outputs": [
    {
     "data": {
      "text/plain": [
       "86438.29876875001"
      ]
     },
     "execution_count": 4,
     "metadata": {},
     "output_type": "execute_result"
    }
   ],
   "source": [
    "# TODO: Compute the average price of your TVs (as in the previous task) and assign it to tv_price_average\n",
    "tv_price_average = (430 + 1233.99 + 981 + 780) / 4\n",
    "\n",
    "# TODO: Compute the price variance of your TVs and assign it to tv_price_variance\n",
    "tv_price_variance = ((430 - tv_price_average)**2 + (1233.99 - tv_price_average)**2 + (981 - tv_price_average)**2 + (780 - tv_price_average)**2) / 4\n",
    "tv_price_variance"
   ]
  },
  {
   "cell_type": "markdown",
   "metadata": {},
   "source": [
    "Furthermore, you want to take another look at your profit of the next couple of years. Instead of computing your profit directly, use the variables `current_profit`, `years`, and `growth_factor`."
   ]
  },
  {
   "cell_type": "code",
   "execution_count": 5,
   "metadata": {},
   "outputs": [],
   "source": [
    "# TODO: Define the variables current_profit, years, and growth_factor with the values from the previous task\n",
    "current_profit = 5000\n",
    "years = 3\n",
    "growth_factor = 1.1"
   ]
  },
  {
   "cell_type": "code",
   "execution_count": 7,
   "metadata": {},
   "outputs": [
    {
     "data": {
      "text/plain": [
       "6655.000000000002"
      ]
     },
     "execution_count": 7,
     "metadata": {},
     "output_type": "execute_result"
    }
   ],
   "source": [
    "# TODO: Compute the new profit using the variables defined in the previous cell\n",
    "new_profit = current_profit * growth_factor ** years\n",
    "new_profit"
   ]
  },
  {
   "cell_type": "markdown",
   "metadata": {},
   "source": [
    "To see how your profit changes with varying conditions, you can change the values of the variables `current_profit`, `years`, and `growth_factor` and then run the previous cell again."
   ]
  },
  {
   "cell_type": "code",
   "execution_count": 8,
   "metadata": {},
   "outputs": [],
   "source": [
    "# TODO: Compute your profit in 5, 10, and 20 years.\n",
    "# (Assign the respective value to the variable years, then rerun the previous cell)\n",
    "\n",
    "# COMMENT: Use the respective assignment and re-run the previous cell to get the new profit.\n",
    "years = 5\n",
    "years = 10\n",
    "years = 20"
   ]
  },
  {
   "cell_type": "code",
   "execution_count": 9,
   "metadata": {},
   "outputs": [],
   "source": [
    "# TODO: Compute your profit with an expected profit increase of 20%\n",
    "\n",
    "years = 3\n",
    "growth_factor = 1.2\n",
    "# COMMENT: It is important to keep in mind that the `years` variable has been changed in the previous cell.\n",
    "#          So you have to change it back in order to get the result for 3 years and 20% profit increase."
   ]
  },
  {
   "cell_type": "markdown",
   "metadata": {},
   "source": [
    "# Task 3 - Base Types"
   ]
  },
  {
   "cell_type": "markdown",
   "metadata": {},
   "source": [
    "One of your colleagues has written a little program to make some small analyses of your TVs. But as he is not as experienced with the handling of types in Python as you are, the program is not perfect yet."
   ]
  },
  {
   "cell_type": "code",
   "execution_count": 13,
   "metadata": {},
   "outputs": [
    {
     "name": "stdout",
     "output_type": "stream",
     "text": [
      "<class 'str'> -> Incorrect. Should be an integer or a float as it is a price.\n",
      "<class 'str'> -> Incorrect. Should be an integer or a float as it is a price.\n",
      "<class 'int'> -> Correct.\n",
      "<class 'float'> -> Correct.\n",
      "<class 'str'> -> Incorrect. Should be an integer as it represents a quantity.\n",
      "<class 'str'> -> Correct.\n"
     ]
    }
   ],
   "source": [
    "price_zamzung_1 = '430'\n",
    "price_zamzung_2 = \"1233.99\"\n",
    "price_gl = 981\n",
    "price_philipp = 780.0\n",
    "number_of_tvs = '4'\n",
    "message = \"The average price of our TVs is: \"\n",
    "\n",
    "# TODO: Print the types of the variables above. Which ones have been initialised correctly?\n",
    "print(type(price_zamzung_1), '-> Incorrect. Should be an integer or a float as it is a price.')\n",
    "print(type(price_zamzung_2), '-> Incorrect. Should be an integer or a float as it is a price.')\n",
    "print(type(price_gl), '-> Correct.')\n",
    "print(type(price_philipp), '-> Correct.')\n",
    "print(type(number_of_tvs), '-> Incorrect. Should be an integer as it represents a quantity.')\n",
    "print(type(message), '-> Correct.')"
   ]
  },
  {
   "cell_type": "markdown",
   "metadata": {},
   "source": [
    "# Task 4 - Operators & Type Conversion"
   ]
  },
  {
   "cell_type": "markdown",
   "metadata": {},
   "source": [
    "As you've learned the essentials of type conversion now, you can help your colleague further:"
   ]
  },
  {
   "cell_type": "code",
   "execution_count": 14,
   "metadata": {},
   "outputs": [
    {
     "data": {
      "text/plain": [
       "856.2475"
      ]
     },
     "execution_count": 14,
     "metadata": {},
     "output_type": "execute_result"
    }
   ],
   "source": [
    "# TODO: Change the types of the variables where necessary so that the average price is computed without errors\n",
    "average_tv_price = (float(price_zamzung_1) + float(price_zamzung_2) + price_gl + price_philipp) / int(number_of_tvs)\n",
    "average_tv_price"
   ]
  },
  {
   "cell_type": "code",
   "execution_count": 15,
   "metadata": {},
   "outputs": [
    {
     "name": "stdout",
     "output_type": "stream",
     "text": [
      "The average price of our TVs is: 856.2475\n"
     ]
    }
   ],
   "source": [
    "# TODO: Change the types accordingly, so that the statement is printed correctly\n",
    "print(message + str(average_tv_price))"
   ]
  },
  {
   "cell_type": "markdown",
   "metadata": {},
   "source": [
    "Let's learn a little bit more about boolean values. When programming, the decisions that are taken are often dependent on the truth values of variables. Thus, it is important to know whether certain values are `True` or `False` when converting them to a boolean value."
   ]
  },
  {
   "cell_type": "code",
   "execution_count": 18,
   "metadata": {},
   "outputs": [],
   "source": [
    "var1 = 'Test'\n",
    "var2 = 'True'\n",
    "var3 = 'False'\n",
    "var4 = ''\n",
    "var5 = 15\n",
    "var6 = 0.0000001\n",
    "var7 = 0\n",
    "var8 = -1\n",
    "var9 = None\n",
    "var10 = False\n",
    "var11 = str(var10)\n",
    "\n",
    "# TODO: Convert these variables to boolean values with the `bool()` function.\n",
    "# TODO: Print them to see whether they are True or False."
   ]
  },
  {
   "cell_type": "code",
   "execution_count": null,
   "metadata": {},
   "outputs": [],
   "source": [
    "# TODO: Are the resulting boolean values intuitive? Can you identify the pattern?"
   ]
  },
  {
   "cell_type": "code",
   "execution_count": 21,
   "metadata": {
    "scrolled": true
   },
   "outputs": [
    {
     "name": "stdout",
     "output_type": "stream",
     "text": [
      "True -> A non-empty string is always True.\n",
      "True -> A non-empty string is always True.\n",
      "True -> A non-empty string is always True, even if it is the word \"False\".\n",
      "False -> An empty string is equivalent to False.\n",
      "True -> An integer that is not equal to 0 is always True.\n",
      "True -> A float that is not equal to 0.0 is always True.\n",
      "False -> The integer 0 is equivalent to False.\n",
      "True -> An integer that is not equal to 0 is always True, even if it is negative.\n",
      "False -> None is always False.\n",
      "False -> False is False. That is a fact.\n",
      "True -> When we convert the boolean value False to a string, then it is \"False\". Converting it back to a boolean value is then True as it is a non-empty string.\n"
     ]
    }
   ],
   "source": [
    "print(bool(var1), '-> A non-empty string is always True.')\n",
    "print(bool(var2), '-> A non-empty string is always True.')\n",
    "print(bool(var3), '-> A non-empty string is always True, even if it is the word \"False\".')\n",
    "print(bool(var4), '-> An empty string is equivalent to False.')\n",
    "print(bool(var5), '-> An integer that is not equal to 0 is always True.')\n",
    "print(bool(var6), '-> A float that is not equal to 0.0 is always True.')\n",
    "print(bool(var7), '-> The integer 0 is equivalent to False.')\n",
    "print(bool(var8), '-> An integer that is not equal to 0 is always True, even if it is negative.')\n",
    "print(bool(var9), '-> None is always False.')\n",
    "print(bool(var10), '-> False is False. That is a fact.')\n",
    "print(bool(var11), '-> When we convert the boolean value False to a string, then it is \"False\". Converting it back to a boolean value is then True as it is a non-empty string.')"
   ]
  }
 ],
 "metadata": {
  "kernelspec": {
   "display_name": "Python 3",
   "language": "python",
   "name": "python3"
  },
  "language_info": {
   "codemirror_mode": {
    "name": "ipython",
    "version": 3
   },
   "file_extension": ".py",
   "mimetype": "text/x-python",
   "name": "python",
   "nbconvert_exporter": "python",
   "pygments_lexer": "ipython3",
   "version": "3.7.0"
  }
 },
 "nbformat": 4,
 "nbformat_minor": 2
}
