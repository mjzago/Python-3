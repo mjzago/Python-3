{
 "cells": [
  {
   "cell_type": "markdown",
   "metadata": {},
   "source": [
    "# Task 1 - Calculation with Python"
   ]
  },
  {
   "cell_type": "markdown",
   "metadata": {},
   "source": [
    "You have built up a small business selling hardware online in your own store. Currently, you offer four different TV models:\n",
    "\n",
    "- Zamzung Model X (430€)\n",
    "- Zamzung Model Y (1,233.99€)\n",
    "- GL TV1          (981€)\n",
    "- Philipp Nr.2   (780€)"
   ]
  },
  {
   "cell_type": "code",
   "execution_count": 2,
   "metadata": {},
   "outputs": [
    {
     "name": "stdout",
     "output_type": "stream",
     "text": [
      "Average price of TVs: 856.2475\n"
     ]
    }
   ],
   "source": [
    "# TODO: Compute the average price of your TVs\n",
    "\n",
    "# List of TV prices\n",
    "tv_prices = [430, 1233.99, 981, 780]\n",
    "\n",
    "# Calculate the total price\n",
    "total_price = sum(tv_prices)\n",
    "\n",
    "# Calculate the number of TVs\n",
    "num_tvs = len(tv_prices)\n",
    "\n",
    "# Calculate the average price\n",
    "average_price = total_price / num_tvs\n",
    "\n",
    "print(\"Average price of TVs:\", average_price)\n",
    "\n"
   ]
  },
  {
   "cell_type": "code",
   "execution_count": 3,
   "metadata": {},
   "outputs": [
    {
     "name": "stdout",
     "output_type": "stream",
     "text": [
      "Average price of TVs: 856.2475\n"
     ]
    }
   ],
   "source": [
    "# List of TV prices\n",
    "tv_prices = [430, 1233.99, 981, 780]\n",
    "\n",
    "# Initialize variables for sum and count\n",
    "total_price = 0\n",
    "num_tvs = len(tv_prices)\n",
    "\n",
    "# Loop through the prices to calculate the sum\n",
    "for price in tv_prices:\n",
    "    total_price += price\n",
    "\n",
    "# Calculate the average\n",
    "average_price = total_price / num_tvs\n",
    "\n",
    "print(\"Average price of TVs:\", average_price)\n"
   ]
  },
  {
   "cell_type": "markdown",
   "metadata": {},
   "source": [
    "Last year you made a profit of 5,000€. You're considering to invest it into a new layout for your online shop. This should increase your profit by 10% each year."
   ]
  },
  {
   "cell_type": "code",
   "execution_count": 5,
   "metadata": {},
   "outputs": [
    {
     "name": "stdout",
     "output_type": "stream",
     "text": [
      "Future profit in 3 years: 6655.000000000002 €\n"
     ]
    }
   ],
   "source": [
    "# TODO: Compute how high your profit will be in 3 years (if all else is equal)\n",
    "\n",
    "initial_investment = 5000\n",
    "annual_interest_rate = 10  # 10%\n",
    "years = 3\n",
    "\n",
    "future_profit = initial_investment * (1 + annual_interest_rate / 100) ** years\n",
    "print(\"Future profit in 3 years:\", future_profit, \"€\")\n"
   ]
  },
  {
   "cell_type": "markdown",
   "metadata": {},
   "source": [
    "# Task 2 - Variables"
   ]
  },
  {
   "cell_type": "markdown",
   "metadata": {},
   "source": [
    "Now, you would like to compute the price variance of your TVs (reminder: $Var(X)=E[(X-mean)^2]$ ). Use the variables `tv_price_average` and `tv_price_variance` to store your calculations."
   ]
  },
  {
   "cell_type": "code",
   "execution_count": null,
   "metadata": {},
   "outputs": [],
   "source": [
    "# TODO: Compute the average price of your TVs (as in the previous task) and assign it to tv_price_average\n",
    "\n",
    "# TODO: Compute the price variance of your TVs and assign it to tv_price_variance"
   ]
  },
  {
   "cell_type": "markdown",
   "metadata": {},
   "source": [
    "Furthermore, you want to take another look at your profit of the next couple of years. Instead of computing your profit directly, use the variables `current_profit`, `years`, and `growth_factor`."
   ]
  },
  {
   "cell_type": "code",
   "execution_count": null,
   "metadata": {},
   "outputs": [],
   "source": [
    "# TODO: Define the variables current_profit, years, and growth_factor with the values from the previous task"
   ]
  },
  {
   "cell_type": "code",
   "execution_count": null,
   "metadata": {},
   "outputs": [],
   "source": [
    "# TODO: Compute the new profit using the variables defined in the previous cell"
   ]
  },
  {
   "cell_type": "markdown",
   "metadata": {},
   "source": [
    "To see how your profit changes with varying conditions, you can change the values of the variables `current_profit`, `years`, and `growth_factor` and then run the previous cell again."
   ]
  },
  {
   "cell_type": "code",
   "execution_count": null,
   "metadata": {},
   "outputs": [],
   "source": [
    "# TODO: Compute your profit in 5, 10, and 20 years.\n",
    "# (Assign the respective value to the variable years, then rerun the previous cell)"
   ]
  },
  {
   "cell_type": "code",
   "execution_count": null,
   "metadata": {},
   "outputs": [],
   "source": [
    "# TODO: Compute your profit with an expected profit increase of 20%"
   ]
  },
  {
   "cell_type": "markdown",
   "metadata": {},
   "source": [
    "# Task 3 - Base Types"
   ]
  },
  {
   "cell_type": "markdown",
   "metadata": {},
   "source": [
    "One of your colleagues has written a little program to make some small analyses of your TVs. But as he is not as experienced with the handling of types in Python as you are, the program is not perfect yet."
   ]
  },
  {
   "cell_type": "code",
   "execution_count": 6,
   "metadata": {},
   "outputs": [],
   "source": [
    "price_zamzung_1 = 430\n",
    "price_zamzung_2 = 1233.99\n",
    "price_gl = 981\n",
    "price_philipp = 780.0\n",
    "number_of_tvs = 4\n",
    "message = \"The average price of our TVs is: \"\n",
    "\n",
    "# TODO: Print the types of the variables above. Which ones have been initialised correctly?"
   ]
  },
  {
   "cell_type": "markdown",
   "metadata": {},
   "source": [
    "# Task 4 - Operators & Type Conversion"
   ]
  },
  {
   "cell_type": "markdown",
   "metadata": {},
   "source": [
    "As you've learned the essentials of type conversion now, you can help your colleague further:"
   ]
  },
  {
   "cell_type": "code",
   "execution_count": null,
   "metadata": {},
   "outputs": [],
   "source": [
    "# TODO: Change the types of the variables where necessary so that the average price is computed without errors\n",
    "average_tv_price = (price_zamzung_1 + price_zamzung_2 + price_gl + price_philipp) / number_of_tvs\n",
    "average_tv_price"
   ]
  },
  {
   "cell_type": "code",
   "execution_count": null,
   "metadata": {},
   "outputs": [],
   "source": [
    "# TODO: Change the types accordingly, so that the statement is printed correctly\n",
    "print(message + average_tv_price)"
   ]
  },
  {
   "cell_type": "markdown",
   "metadata": {},
   "source": [
    "Let's learn a little bit more about boolean values. When programming, the decisions that are taken are often dependent on the truth values of variables. Thus, it is important to know whether certain values are `True` or `False` when converting them to a boolean value."
   ]
  },
  {
   "cell_type": "code",
   "execution_count": 17,
   "metadata": {},
   "outputs": [],
   "source": [
    "var1 = 'Test'\n",
    "var2 = 'True'\n",
    "var3 = 'False'\n",
    "var4 = ''\n",
    "var5 = 15\n",
    "var6 = 0.0000001\n",
    "var7 = 0\n",
    "var8 = -1\n",
    "var9 = None\n",
    "var10 = False\n",
    "var11 = str(var10)\n",
    "\n",
    "# TODO: Convert these variables to boolean values with the `bool()` function.\n",
    "# TODO: Print them to see whether they are True or False."
   ]
  },
  {
   "cell_type": "code",
   "execution_count": null,
   "metadata": {},
   "outputs": [],
   "source": [
    "# TODO: Are the resulting boolean values intuitive? Can you identify the pattern?"
   ]
  }
 ],
 "metadata": {
  "kernelspec": {
   "display_name": "Python 3",
   "language": "python",
   "name": "python3"
  },
  "language_info": {
   "codemirror_mode": {
    "name": "ipython",
    "version": 3
   },
   "file_extension": ".py",
   "mimetype": "text/x-python",
   "name": "python",
   "nbconvert_exporter": "python",
   "pygments_lexer": "ipython3",
   "version": "3.11.3"
  }
 },
 "nbformat": 4,
 "nbformat_minor": 2
}
